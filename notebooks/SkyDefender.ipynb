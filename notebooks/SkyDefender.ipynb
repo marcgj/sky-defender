{
  "cells": [
    {
      "cell_type": "markdown",
      "metadata": {
        "id": "NEgl0D1Ijw3B"
      },
      "source": [
        "# Download Dataset\n",
        "\n",
        "Download (10GB) the Military Aircraft Detection Dataset from Kaggle, unzip just the dataset into raw\n",
        "\n",
        "Total RAW data = 8GB\n",
        "\n",
        "**IMPORTANT**: Api key (json) from Kaggle needs to be added to the notebooks folder of the project in order to download the dataset"
      ]
    },
    {
      "cell_type": "code",
      "execution_count": 1,
      "metadata": {
        "colab": {
          "base_uri": "https://localhost:8080/"
        },
        "id": "rFZGjBFUjw3D",
        "outputId": "3f4684f7-abc2-4d63-fc40-ab9d6000073b"
      },
      "outputs": [
        {
          "output_type": "stream",
          "name": "stdout",
          "text": [
            "fatal: destination path 'sky-defender' already exists and is not an empty directory.\n",
            "/content/sky-defender/notebooks\n"
          ]
        }
      ],
      "source": [
        "# Check if in a Google Colab\n",
        "COLAB = False\n",
        "\n",
        "try:\n",
        "    import google.colab\n",
        "    COLAB = True\n",
        "except ImportError:\n",
        "    COLAB = False\n",
        "\n",
        "if COLAB:\n",
        "    !git clone https://github.com/marcgj/sky-defender.git\n",
        "    %cd sky-defender/notebooks/\n",
        "\n"
      ]
    },
    {
      "cell_type": "markdown",
      "metadata": {
        "id": "So6P2-i9jw3E"
      },
      "source": [
        "#### Install Kaggle"
      ]
    },
    {
      "cell_type": "code",
      "execution_count": 2,
      "metadata": {
        "colab": {
          "base_uri": "https://localhost:8080/"
        },
        "id": "kDzHnGtxyW1G",
        "outputId": "54d44dc0-2fff-4714-ab83-90d28205b913"
      },
      "outputs": [
        {
          "output_type": "stream",
          "name": "stdout",
          "text": [
            "mkdir: cannot create directory ‘/root/.kaggle’: File exists\n"
          ]
        }
      ],
      "source": [
        "!pip install -q kaggle\n",
        "!mkdir ~/.kaggle\n",
        "!cp kaggle.json ~/.kaggle/\n",
        "!chmod 600 ~/.kaggle/kaggle.json"
      ]
    },
    {
      "cell_type": "code",
      "source": [
        "!ls\n"
      ],
      "metadata": {
        "colab": {
          "base_uri": "https://localhost:8080/"
        },
        "id": "y_KcMlb8nwAO",
        "outputId": "a5f3fad1-95ab-446d-aadd-20699df553e6"
      },
      "execution_count": 3,
      "outputs": [
        {
          "output_type": "stream",
          "name": "stdout",
          "text": [
            "download     SkyDefender.ipynb\t     yolo_files\n",
            "kaggle.json  sky-defender-OLD.ipynb  yolov5s-cls.pt\n"
          ]
        }
      ]
    },
    {
      "cell_type": "markdown",
      "metadata": {
        "id": "ysdUbg2z7Eib"
      },
      "source": [
        "#### Download Dataset"
      ]
    },
    {
      "cell_type": "code",
      "execution_count": 4,
      "metadata": {
        "colab": {
          "base_uri": "https://localhost:8080/"
        },
        "id": "x8OWVPSsykRs",
        "outputId": "08db1c9a-8828-4efc-d4ab-f6786707202e",
        "tags": []
      },
      "outputs": [
        {
          "name": "stdout",
          "output_type": "stream",
          "text": [
            "\tYes(Y)/No(N): n\n"
          ]
        }
      ],
      "source": [
        "\n",
        "TRUE_CONDITIONS = ['y', 'yes']\n",
        "\n",
        "# Download the dataset\n",
        "download = input('\\tYes(Y)/No(N): ')\n",
        "\n",
        "if download.lower() in TRUE_CONDITIONS:\n",
        "    ! mkdir download\n",
        "    ! kaggle datasets download -d a2015003713/militaryaircraftdetectiondataset -p download\n",
        "    # Unzip the dataset\n",
        "    !mkdir -p ../data/raw\n",
        "    !mkdir -p ../data/interim\n",
        "    !unzip -j ./download/militaryaircraftdetectiondataset.zip \"dataset/*\" -d ../data/raw\n",
        "    # Remove temporal files?\n",
        "    !rm -rf ./download"
      ]
    },
    {
      "cell_type": "markdown",
      "metadata": {
        "id": "Kfa4tztDz9aZ"
      },
      "source": [
        "## Loading Dataset"
      ]
    },
    {
      "cell_type": "code",
      "execution_count": 5,
      "metadata": {
        "id": "RkWu4Dr6yAUO"
      },
      "outputs": [],
      "source": [
        "import tensorflow as tf\n",
        "from tensorflow import keras\n",
        "import os\n",
        "import pandas as pd\n",
        "import numpy as np\n",
        "import matplotlib.pyplot as plt\n",
        "import sklearn\n",
        "from sklearn.model_selection import train_test_split"
      ]
    },
    {
      "cell_type": "code",
      "execution_count": 6,
      "metadata": {
        "colab": {
          "base_uri": "https://localhost:8080/"
        },
        "id": "pH-LOzMijw3G",
        "outputId": "bb21c665-8810-4134-ceec-3a05c23818bb"
      },
      "outputs": [
        {
          "output_type": "stream",
          "name": "stdout",
          "text": [
            "/content/sky-defender/notebooks\n"
          ]
        }
      ],
      "source": [
        "!pwd"
      ]
    },
    {
      "cell_type": "code",
      "execution_count": 7,
      "metadata": {
        "id": "oRf7Hhf0zzhN"
      },
      "outputs": [],
      "source": [
        "csv_path = \"../data/raw/\"\n",
        "df = pd.concat([pd.read_csv(csv_path + f, delimiter=',') for f in os.listdir(csv_path) if f.endswith('.csv')], ignore_index=True)"
      ]
    },
    {
      "cell_type": "code",
      "execution_count": 8,
      "metadata": {
        "id": "RADlXxOQypd8"
      },
      "outputs": [],
      "source": [
        "df.to_csv('../data/interim/merged_info.csv', index=False)"
      ]
    },
    {
      "cell_type": "markdown",
      "metadata": {
        "id": "o5WCNlW-jw3H"
      },
      "source": [
        "## Checking Null Values"
      ]
    },
    {
      "cell_type": "code",
      "execution_count": 9,
      "metadata": {
        "colab": {
          "base_uri": "https://localhost:8080/"
        },
        "id": "b93rjx3R3s3h",
        "outputId": "b75e9ef7-72b6-4dd3-badc-fd3b84b8833e"
      },
      "outputs": [
        {
          "output_type": "stream",
          "name": "stdout",
          "text": [
            "No null values in DF.\n"
          ]
        }
      ],
      "source": [
        "if df.isnull().values.any():\n",
        "    print(\"There are null values in DF\")\n",
        "else:\n",
        "    print(\"No null values in DF.\")"
      ]
    },
    {
      "cell_type": "markdown",
      "metadata": {
        "id": "bCLf3chqjw3I"
      },
      "source": [
        "## Examining classes"
      ]
    },
    {
      "cell_type": "code",
      "execution_count": 10,
      "metadata": {
        "colab": {
          "base_uri": "https://localhost:8080/",
          "height": 423
        },
        "id": "Uskws4j430Pd",
        "outputId": "bb19bb54-ab73-485a-fdc7-ac2594806123"
      },
      "outputs": [
        {
          "output_type": "execute_result",
          "data": {
            "text/plain": [
              "<Axes: ylabel='class'>"
            ]
          },
          "metadata": {},
          "execution_count": 10
        },
        {
          "output_type": "display_data",
          "data": {
            "text/plain": [
              "<Figure size 640x480 with 1 Axes>"
            ],
            "image/png": "[encoded data removed]"
          },
          "metadata": {}
        }
      ],
      "source": [
        "df[\"class\"].value_counts().head(15).plot(kind=\"pie\") #See where can we reduce a bit our dataset"
      ]
    },
    {
      "cell_type": "markdown",
      "metadata": {
        "id": "iOQwKHnJjw3I"
      },
      "source": [
        "## Reducing classes\n",
        "Because the dataset is very large and our project is focused more in object detection, we will be using just 3 classes in order to reduce computing time "
      ]
    },
    {
      "cell_type": "code",
      "execution_count": 11,
      "metadata": {
        "colab": {
          "base_uri": "https://localhost:8080/",
          "height": 510
        },
        "id": "HhRedQRe33Gc",
        "outputId": "76a61ecb-c1d2-415d-ea22-a7f368237580"
      },
      "outputs": [
        {
          "output_type": "stream",
          "name": "stdout",
          "text": [
            "Reduced from 17968 rows to 3162 rows\n",
            "F16    1060\n",
            "F15    1053\n",
            "F18    1049\n",
            "Name: class, dtype: int64\n"
          ]
        },
        {
          "output_type": "execute_result",
          "data": {
            "text/plain": [
              "<Axes: ylabel='class'>"
            ]
          },
          "metadata": {},
          "execution_count": 11
        },
        {
          "output_type": "display_data",
          "data": {
            "text/plain": [
              "<Figure size 640x480 with 1 Axes>"
            ],
            "image/png": "[encoded data removed]"
          },
          "metadata": {}
        }
      ],
      "source": [
        "target = [\"F16\", \"F15\", \"F18\"] #Classes we want to keep\n",
        "\n",
        "df_reduced = df.loc[df[\"class\"].isin(target)].copy(deep=True)\n",
        "\n",
        "print(f\"Reduced from {len(df.index)} rows to {len(df_reduced.index)} rows\")\n",
        "counts = df_reduced[\"class\"].value_counts()\n",
        "print(counts)\n",
        "counts.plot(kind=\"pie\")\n"
      ]
    },
    {
      "cell_type": "markdown",
      "metadata": {
        "id": "1WDMF5Bgjw3I"
      },
      "source": [
        "# Loading images"
      ]
    },
    {
      "cell_type": "markdown",
      "metadata": {
        "id": "kWl0jlnGjw3I"
      },
      "source": [
        "## Adding paths to images"
      ]
    },
    {
      "cell_type": "code",
      "execution_count": 12,
      "metadata": {
        "colab": {
          "base_uri": "https://localhost:8080/",
          "height": 284
        },
        "id": "jkISR6Ho35RH",
        "outputId": "0160d023-6a29-4d4e-9d3a-feda6f83ccdd"
      },
      "outputs": [
        {
          "output_type": "execute_result",
          "data": {
            "text/plain": [
              "                            filename  width  height class  xmin  ymin  xmax  \\\n",
              "4   34ef95c3ecb2eaf50090cfdddf9ddf75   1920    1200   F18   232   219  1832   \n",
              "11  7f4348a14fbf33630ab0701d3687e141   1280     851   F15   310   161  1062   \n",
              "15  3eab5b13cff1c38f1fa517b03d6f6960   1600    1066   F15   120   119   989   \n",
              "32  a797372671f5dcd3e7ff91889e1946cd   1080     608   F18   237     8   878   \n",
              "38  9aa3009e8bb0440d0e09058072db036e   4096    2726   F18   106   606  4017   \n",
              "\n",
              "    ymax                                          filepath  \n",
              "4    886  ../data/raw/34ef95c3ecb2eaf50090cfdddf9ddf75.jpg  \n",
              "11   715  ../data/raw/7f4348a14fbf33630ab0701d3687e141.jpg  \n",
              "15   378  ../data/raw/3eab5b13cff1c38f1fa517b03d6f6960.jpg  \n",
              "32   605  ../data/raw/a797372671f5dcd3e7ff91889e1946cd.jpg  \n",
              "38  1826  ../data/raw/9aa3009e8bb0440d0e09058072db036e.jpg  "
            ],
            "text/html": [
              "\n",
              "  <div id=\"df-837e9eb3-8fb1-40fc-91bf-9c6a442cce5b\">\n",
              "    <div class=\"colab-df-container\">\n",
              "      <div>\n",
              "<style scoped>\n",
              "    .dataframe tbody tr th:only-of-type {\n",
              "        vertical-align: middle;\n",
              "    }\n",
              "\n",
              "    .dataframe tbody tr th {\n",
              "        vertical-align: top;\n",
              "    }\n",
              "\n",
              "    .dataframe thead th {\n",
              "        text-align: right;\n",
              "    }\n",
              "</style>\n",
              "<table border=\"1\" class=\"dataframe\">\n",
              "  <thead>\n",
              "    <tr style=\"text-align: right;\">\n",
              "      <th></th>\n",
              "      <th>filename</th>\n",
              "      <th>width</th>\n",
              "      <th>height</th>\n",
              "      <th>class</th>\n",
              "      <th>xmin</th>\n",
              "      <th>ymin</th>\n",
              "      <th>xmax</th>\n",
              "      <th>ymax</th>\n",
              "      <th>filepath</th>\n",
              "    </tr>\n",
              "  </thead>\n",
              "  <tbody>\n",
              "    <tr>\n",
              "      <th>4</th>\n",
              "      <td>34ef95c3ecb2eaf50090cfdddf9ddf75</td>\n",
              "      <td>1920</td>\n",
              "      <td>1200</td>\n",
              "      <td>F18</td>\n",
              "      <td>232</td>\n",
              "      <td>219</td>\n",
              "      <td>1832</td>\n",
              "      <td>886</td>\n",
              "      <td>../data/raw/34ef95c3ecb2eaf50090cfdddf9ddf75.jpg</td>\n",
              "    </tr>\n",
              "    <tr>\n",
              "      <th>11</th>\n",
              "      <td>7f4348a14fbf33630ab0701d3687e141</td>\n",
              "      <td>1280</td>\n",
              "      <td>851</td>\n",
              "      <td>F15</td>\n",
              "      <td>310</td>\n",
              "      <td>161</td>\n",
              "      <td>1062</td>\n",
              "      <td>715</td>\n",
              "      <td>../data/raw/7f4348a14fbf33630ab0701d3687e141.jpg</td>\n",
              "    </tr>\n",
              "    <tr>\n",
              "      <th>15</th>\n",
              "      <td>3eab5b13cff1c38f1fa517b03d6f6960</td>\n",
              "      <td>1600</td>\n",
              "      <td>1066</td>\n",
              "      <td>F15</td>\n",
              "      <td>120</td>\n",
              "      <td>119</td>\n",
              "      <td>989</td>\n",
              "      <td>378</td>\n",
              "      <td>../data/raw/3eab5b13cff1c38f1fa517b03d6f6960.jpg</td>\n",
              "    </tr>\n",
              "    <tr>\n",
              "      <th>32</th>\n",
              "      <td>a797372671f5dcd3e7ff91889e1946cd</td>\n",
              "      <td>1080</td>\n",
              "      <td>608</td>\n",
              "      <td>F18</td>\n",
              "      <td>237</td>\n",
              "      <td>8</td>\n",
              "      <td>878</td>\n",
              "      <td>605</td>\n",
              "      <td>../data/raw/a797372671f5dcd3e7ff91889e1946cd.jpg</td>\n",
              "    </tr>\n",
              "    <tr>\n",
              "      <th>38</th>\n",
              "      <td>9aa3009e8bb0440d0e09058072db036e</td>\n",
              "      <td>4096</td>\n",
              "      <td>2726</td>\n",
              "      <td>F18</td>\n",
              "      <td>106</td>\n",
              "      <td>606</td>\n",
              "      <td>4017</td>\n",
              "      <td>1826</td>\n",
              "      <td>../data/raw/9aa3009e8bb0440d0e09058072db036e.jpg</td>\n",
              "    </tr>\n",
              "  </tbody>\n",
              "</table>\n",
              "</div>\n",
              "      <button class=\"colab-df-convert\" onclick=\"convertToInteractive('df-837e9eb3-8fb1-40fc-91bf-9c6a442cce5b')\"\n",
              "              title=\"Convert this dataframe to an interactive table.\"\n",
              "              style=\"display:none;\">\n",
              "        \n",
              "  <svg xmlns=\"http://www.w3.org/2000/svg\" height=\"24px\"viewBox=\"0 0 24 24\"\n",
              "       width=\"24px\">\n",
              "    <path d=\"M0 0h24v24H0V0z\" fill=\"none\"/>\n",
              "    <path d=\"M18.56 5.44l.94 2.06.94-2.06 2.06-.94-2.06-.94-.94-2.06-.94 2.06-2.06.94zm-11 1L8.5 8.5l.94-2.06 2.06-.94-2.06-.94L8.5 2.5l-.94 2.06-2.06.94zm10 10l.94 2.06.94-2.06 2.06-.94-2.06-.94-.94-2.06-.94 2.06-2.06.94z\"/><path d=\"M17.41 7.96l-1.37-1.37c-.4-.4-.92-.59-1.43-.59-.52 0-1.04.2-1.43.59L10.3 9.45l-7.72 7.72c-.78.78-.78 2.05 0 2.83L4 21.41c.39.39.9.59 1.41.59.51 0 1.02-.2 1.41-.59l7.78-7.78 2.81-2.81c.8-.78.8-2.07 0-2.86zM5.41 20L4 18.59l7.72-7.72 1.47 1.35L5.41 20z\"/>\n",
              "  </svg>\n",
              "      </button>\n",
              "      \n",
              "  <style>\n",
              "    .colab-df-container {\n",
              "      display:flex;\n",
              "      flex-wrap:wrap;\n",
              "      gap: 12px;\n",
              "    }\n",
              "\n",
              "    .colab-df-convert {\n",
              "      background-color: #E8F0FE;\n",
              "      border: none;\n",
              "      border-radius: 50%;\n",
              "      cursor: pointer;\n",
              "      display: none;\n",
              "      fill: #1967D2;\n",
              "      height: 32px;\n",
              "      padding: 0 0 0 0;\n",
              "      width: 32px;\n",
              "    }\n",
              "\n",
              "    .colab-df-convert:hover {\n",
              "      background-color: #E2EBFA;\n",
              "      box-shadow: 0px 1px 2px rgba(60, 64, 67, 0.3), 0px 1px 3px 1px rgba(60, 64, 67, 0.15);\n",
              "      fill: #174EA6;\n",
              "    }\n",
              "\n",
              "    [theme=dark] .colab-df-convert {\n",
              "      background-color: #3B4455;\n",
              "      fill: #D2E3FC;\n",
              "    }\n",
              "\n",
              "    [theme=dark] .colab-df-convert:hover {\n",
              "      background-color: #434B5C;\n",
              "      box-shadow: 0px 1px 3px 1px rgba(0, 0, 0, 0.15);\n",
              "      filter: drop-shadow(0px 1px 2px rgba(0, 0, 0, 0.3));\n",
              "      fill: #FFFFFF;\n",
              "    }\n",
              "  </style>\n",
              "\n",
              "      <script>\n",
              "        const buttonEl =\n",
              "          document.querySelector('#df-837e9eb3-8fb1-40fc-91bf-9c6a442cce5b button.colab-df-convert');\n",
              "        buttonEl.style.display =\n",
              "          google.colab.kernel.accessAllowed ? 'block' : 'none';\n",
              "\n",
              "        async function convertToInteractive(key) {\n",
              "          const element = document.querySelector('#df-837e9eb3-8fb1-40fc-91bf-9c6a442cce5b');\n",
              "          const dataTable =\n",
              "            await google.colab.kernel.invokeFunction('convertToInteractive',\n",
              "                                                     [key], {});\n",
              "          if (!dataTable) return;\n",
              "\n",
              "          const docLinkHtml = 'Like what you see? Visit the ' +\n",
              "            '<a target=\"_blank\" href=https://colab.research.google.com/notebooks/data_table.ipynb>data table notebook</a>'\n",
              "            + ' to learn more about interactive tables.';\n",
              "          element.innerHTML = '';\n",
              "          dataTable['output_type'] = 'display_data';\n",
              "          await google.colab.output.renderOutput(dataTable, element);\n",
              "          const docLink = document.createElement('div');\n",
              "          docLink.innerHTML = docLinkHtml;\n",
              "          element.appendChild(docLink);\n",
              "        }\n",
              "      </script>\n",
              "    </div>\n",
              "  </div>\n",
              "  "
            ]
          },
          "metadata": {},
          "execution_count": 12
        },
        {
          "output_type": "stream",
          "name": "stdout",
          "text": [
            "Error: Runtime no longer has a reference to this dataframe, please re-run this cell and try again.\n",
            "Error: Runtime no longer has a reference to this dataframe, please re-run this cell and try again.\n"
          ]
        }
      ],
      "source": [
        "# Image location\n",
        "images_dir = '../data/raw/'\n",
        "\n",
        "df_clean = df_reduced.copy(deep = True)\n",
        "\n",
        "# Add the filepath to the image into the dataframe\n",
        "df_clean['filepath'] = images_dir + df['filename'] + '.jpg'\n",
        "df_clean.head()"
      ]
    },
    {
      "cell_type": "markdown",
      "metadata": {
        "id": "I2BHtSuTjw3J"
      },
      "source": [
        "## Normalize images and bounding boxes"
      ]
    },
    {
      "cell_type": "code",
      "execution_count": 13,
      "metadata": {
        "id": "nbALIZLUK-_u"
      },
      "outputs": [],
      "source": [
        "df_norm = df_reduced.copy(deep = True)\n",
        "# Iteración sobre el dataframe\n",
        "for index, row in df_clean.iterrows():\n",
        "    width = row[\"width\"]\n",
        "    height = row[\"height\"]\n",
        "    \n",
        "    # Calcular las coordenadas normalizadas\n",
        "    x_min = row['xmin'] / width\n",
        "    y_min = row['ymin'] / height\n",
        "    x_max = row['xmax'] / width\n",
        "    y_max = row['ymax'] / height\n",
        "    \n",
        "    # Obtener la etiqueta de clase\n",
        "    label = row['class']\n",
        "    \n",
        "    x_center = (x_min + x_max)/2\n",
        "    y_center = (y_min + y_max)/2\n",
        "    \n",
        "    width = x_max - x_min\n",
        "    height = y_max - y_min\n",
        "    \n",
        "    # Guardar las coordenadas normalizadas y la etiqueta en el dataframe\n",
        "    df_norm.at[index, 'x_center'] = x_center\n",
        "    df_norm.at[index, 'y_center'] = y_center\n",
        "    df_norm.at[index, 'width'] = width\n",
        "    df_norm.at[index, 'height'] = height"
      ]
    },
    {
      "cell_type": "markdown",
      "metadata": {
        "id": "yHhngVOQjw3J"
      },
      "source": [
        "### Remove columns YOLO does not use"
      ]
    },
    {
      "cell_type": "code",
      "execution_count": 14,
      "metadata": {
        "colab": {
          "base_uri": "https://localhost:8080/",
          "height": 81
        },
        "id": "Y3LWUxlOjw3J",
        "outputId": "a9e7f930-f12a-4b20-b14b-47cc95cb7c44"
      },
      "outputs": [
        {
          "output_type": "execute_result",
          "data": {
            "text/plain": [
              "                           filename     width    height class  x_center  \\\n",
              "4  34ef95c3ecb2eaf50090cfdddf9ddf75  0.833333  0.555833   F18    0.5375   \n",
              "\n",
              "   y_center  \n",
              "4  0.460417  "
            ],
            "text/html": [
              "\n",
              "  <div id=\"df-8357914f-b57c-4709-b337-24145e34b959\">\n",
              "    <div class=\"colab-df-container\">\n",
              "      <div>\n",
              "<style scoped>\n",
              "    .dataframe tbody tr th:only-of-type {\n",
              "        vertical-align: middle;\n",
              "    }\n",
              "\n",
              "    .dataframe tbody tr th {\n",
              "        vertical-align: top;\n",
              "    }\n",
              "\n",
              "    .dataframe thead th {\n",
              "        text-align: right;\n",
              "    }\n",
              "</style>\n",
              "<table border=\"1\" class=\"dataframe\">\n",
              "  <thead>\n",
              "    <tr style=\"text-align: right;\">\n",
              "      <th></th>\n",
              "      <th>filename</th>\n",
              "      <th>width</th>\n",
              "      <th>height</th>\n",
              "      <th>class</th>\n",
              "      <th>x_center</th>\n",
              "      <th>y_center</th>\n",
              "    </tr>\n",
              "  </thead>\n",
              "  <tbody>\n",
              "    <tr>\n",
              "      <th>4</th>\n",
              "      <td>34ef95c3ecb2eaf50090cfdddf9ddf75</td>\n",
              "      <td>0.833333</td>\n",
              "      <td>0.555833</td>\n",
              "      <td>F18</td>\n",
              "      <td>0.5375</td>\n",
              "      <td>0.460417</td>\n",
              "    </tr>\n",
              "  </tbody>\n",
              "</table>\n",
              "</div>\n",
              "      <button class=\"colab-df-convert\" onclick=\"convertToInteractive('df-8357914f-b57c-4709-b337-24145e34b959')\"\n",
              "              title=\"Convert this dataframe to an interactive table.\"\n",
              "              style=\"display:none;\">\n",
              "        \n",
              "  <svg xmlns=\"http://www.w3.org/2000/svg\" height=\"24px\"viewBox=\"0 0 24 24\"\n",
              "       width=\"24px\">\n",
              "    <path d=\"M0 0h24v24H0V0z\" fill=\"none\"/>\n",
              "    <path d=\"M18.56 5.44l.94 2.06.94-2.06 2.06-.94-2.06-.94-.94-2.06-.94 2.06-2.06.94zm-11 1L8.5 8.5l.94-2.06 2.06-.94-2.06-.94L8.5 2.5l-.94 2.06-2.06.94zm10 10l.94 2.06.94-2.06 2.06-.94-2.06-.94-.94-2.06-.94 2.06-2.06.94z\"/><path d=\"M17.41 7.96l-1.37-1.37c-.4-.4-.92-.59-1.43-.59-.52 0-1.04.2-1.43.59L10.3 9.45l-7.72 7.72c-.78.78-.78 2.05 0 2.83L4 21.41c.39.39.9.59 1.41.59.51 0 1.02-.2 1.41-.59l7.78-7.78 2.81-2.81c.8-.78.8-2.07 0-2.86zM5.41 20L4 18.59l7.72-7.72 1.47 1.35L5.41 20z\"/>\n",
              "  </svg>\n",
              "      </button>\n",
              "      \n",
              "  <style>\n",
              "    .colab-df-container {\n",
              "      display:flex;\n",
              "      flex-wrap:wrap;\n",
              "      gap: 12px;\n",
              "    }\n",
              "\n",
              "    .colab-df-convert {\n",
              "      background-color: #E8F0FE;\n",
              "      border: none;\n",
              "      border-radius: 50%;\n",
              "      cursor: pointer;\n",
              "      display: none;\n",
              "      fill: #1967D2;\n",
              "      height: 32px;\n",
              "      padding: 0 0 0 0;\n",
              "      width: 32px;\n",
              "    }\n",
              "\n",
              "    .colab-df-convert:hover {\n",
              "      background-color: #E2EBFA;\n",
              "      box-shadow: 0px 1px 2px rgba(60, 64, 67, 0.3), 0px 1px 3px 1px rgba(60, 64, 67, 0.15);\n",
              "      fill: #174EA6;\n",
              "    }\n",
              "\n",
              "    [theme=dark] .colab-df-convert {\n",
              "      background-color: #3B4455;\n",
              "      fill: #D2E3FC;\n",
              "    }\n",
              "\n",
              "    [theme=dark] .colab-df-convert:hover {\n",
              "      background-color: #434B5C;\n",
              "      box-shadow: 0px 1px 3px 1px rgba(0, 0, 0, 0.15);\n",
              "      filter: drop-shadow(0px 1px 2px rgba(0, 0, 0, 0.3));\n",
              "      fill: #FFFFFF;\n",
              "    }\n",
              "  </style>\n",
              "\n",
              "      <script>\n",
              "        const buttonEl =\n",
              "          document.querySelector('#df-8357914f-b57c-4709-b337-24145e34b959 button.colab-df-convert');\n",
              "        buttonEl.style.display =\n",
              "          google.colab.kernel.accessAllowed ? 'block' : 'none';\n",
              "\n",
              "        async function convertToInteractive(key) {\n",
              "          const element = document.querySelector('#df-8357914f-b57c-4709-b337-24145e34b959');\n",
              "          const dataTable =\n",
              "            await google.colab.kernel.invokeFunction('convertToInteractive',\n",
              "                                                     [key], {});\n",
              "          if (!dataTable) return;\n",
              "\n",
              "          const docLinkHtml = 'Like what you see? Visit the ' +\n",
              "            '<a target=\"_blank\" href=https://colab.research.google.com/notebooks/data_table.ipynb>data table notebook</a>'\n",
              "            + ' to learn more about interactive tables.';\n",
              "          element.innerHTML = '';\n",
              "          dataTable['output_type'] = 'display_data';\n",
              "          await google.colab.output.renderOutput(dataTable, element);\n",
              "          const docLink = document.createElement('div');\n",
              "          docLink.innerHTML = docLinkHtml;\n",
              "          element.appendChild(docLink);\n",
              "        }\n",
              "      </script>\n",
              "    </div>\n",
              "  </div>\n",
              "  "
            ]
          },
          "metadata": {},
          "execution_count": 14
        }
      ],
      "source": [
        "df_norm = df_norm.drop([\"xmin\", \"ymin\", \"xmax\", \"ymax\"], axis=1)\n",
        "df_norm.head(1)"
      ]
    },
    {
      "cell_type": "markdown",
      "metadata": {
        "id": "jWYq2eqVjw3J"
      },
      "source": [
        "### Change class to numeric value"
      ]
    },
    {
      "cell_type": "code",
      "execution_count": 15,
      "metadata": {
        "colab": {
          "base_uri": "https://localhost:8080/",
          "height": 206
        },
        "id": "qsdB2ET9jw3K",
        "outputId": "3a2259cb-afce-4077-e9e3-fef321fcb557"
      },
      "outputs": [
        {
          "output_type": "execute_result",
          "data": {
            "text/plain": [
              "                               filename     width    height  class  x_center  \\\n",
              "17639  f34850a95c83a93a75ebf0e3fded43c2  0.550000  0.419192      1  0.677941   \n",
              "11357  5fbf1c97000553d77d58664b781c2729  0.131000  0.113943      2  0.341500   \n",
              "11147  8f67b81f85e591db607bd99f2527752a  0.083611  0.064762      0  0.504028   \n",
              "8916   694f82f5a9ac55294a61608345060c0c  0.029888  0.035866      1  0.136986   \n",
              "328    7b7762b73dc625d81a4cf54ae2441624  0.322266  0.234375      2  0.339844   \n",
              "\n",
              "       y_center  \n",
              "17639  0.450337  \n",
              "11357  0.586207  \n",
              "11147  0.584762  \n",
              "8916   0.434347  \n",
              "328    0.504340  "
            ],
            "text/html": [
              "\n",
              "  <div id=\"df-b5a820c6-cd78-4b11-9aa6-d1ebdd05ab97\">\n",
              "    <div class=\"colab-df-container\">\n",
              "      <div>\n",
              "<style scoped>\n",
              "    .dataframe tbody tr th:only-of-type {\n",
              "        vertical-align: middle;\n",
              "    }\n",
              "\n",
              "    .dataframe tbody tr th {\n",
              "        vertical-align: top;\n",
              "    }\n",
              "\n",
              "    .dataframe thead th {\n",
              "        text-align: right;\n",
              "    }\n",
              "</style>\n",
              "<table border=\"1\" class=\"dataframe\">\n",
              "  <thead>\n",
              "    <tr style=\"text-align: right;\">\n",
              "      <th></th>\n",
              "      <th>filename</th>\n",
              "      <th>width</th>\n",
              "      <th>height</th>\n",
              "      <th>class</th>\n",
              "      <th>x_center</th>\n",
              "      <th>y_center</th>\n",
              "    </tr>\n",
              "  </thead>\n",
              "  <tbody>\n",
              "    <tr>\n",
              "      <th>17639</th>\n",
              "      <td>f34850a95c83a93a75ebf0e3fded43c2</td>\n",
              "      <td>0.550000</td>\n",
              "      <td>0.419192</td>\n",
              "      <td>1</td>\n",
              "      <td>0.677941</td>\n",
              "      <td>0.450337</td>\n",
              "    </tr>\n",
              "    <tr>\n",
              "      <th>11357</th>\n",
              "      <td>5fbf1c97000553d77d58664b781c2729</td>\n",
              "      <td>0.131000</td>\n",
              "      <td>0.113943</td>\n",
              "      <td>2</td>\n",
              "      <td>0.341500</td>\n",
              "      <td>0.586207</td>\n",
              "    </tr>\n",
              "    <tr>\n",
              "      <th>11147</th>\n",
              "      <td>8f67b81f85e591db607bd99f2527752a</td>\n",
              "      <td>0.083611</td>\n",
              "      <td>0.064762</td>\n",
              "      <td>0</td>\n",
              "      <td>0.504028</td>\n",
              "      <td>0.584762</td>\n",
              "    </tr>\n",
              "    <tr>\n",
              "      <th>8916</th>\n",
              "      <td>694f82f5a9ac55294a61608345060c0c</td>\n",
              "      <td>0.029888</td>\n",
              "      <td>0.035866</td>\n",
              "      <td>1</td>\n",
              "      <td>0.136986</td>\n",
              "      <td>0.434347</td>\n",
              "    </tr>\n",
              "    <tr>\n",
              "      <th>328</th>\n",
              "      <td>7b7762b73dc625d81a4cf54ae2441624</td>\n",
              "      <td>0.322266</td>\n",
              "      <td>0.234375</td>\n",
              "      <td>2</td>\n",
              "      <td>0.339844</td>\n",
              "      <td>0.504340</td>\n",
              "    </tr>\n",
              "  </tbody>\n",
              "</table>\n",
              "</div>\n",
              "      <button class=\"colab-df-convert\" onclick=\"convertToInteractive('df-b5a820c6-cd78-4b11-9aa6-d1ebdd05ab97')\"\n",
              "              title=\"Convert this dataframe to an interactive table.\"\n",
              "              style=\"display:none;\">\n",
              "        \n",
              "  <svg xmlns=\"http://www.w3.org/2000/svg\" height=\"24px\"viewBox=\"0 0 24 24\"\n",
              "       width=\"24px\">\n",
              "    <path d=\"M0 0h24v24H0V0z\" fill=\"none\"/>\n",
              "    <path d=\"M18.56 5.44l.94 2.06.94-2.06 2.06-.94-2.06-.94-.94-2.06-.94 2.06-2.06.94zm-11 1L8.5 8.5l.94-2.06 2.06-.94-2.06-.94L8.5 2.5l-.94 2.06-2.06.94zm10 10l.94 2.06.94-2.06 2.06-.94-2.06-.94-.94-2.06-.94 2.06-2.06.94z\"/><path d=\"M17.41 7.96l-1.37-1.37c-.4-.4-.92-.59-1.43-.59-.52 0-1.04.2-1.43.59L10.3 9.45l-7.72 7.72c-.78.78-.78 2.05 0 2.83L4 21.41c.39.39.9.59 1.41.59.51 0 1.02-.2 1.41-.59l7.78-7.78 2.81-2.81c.8-.78.8-2.07 0-2.86zM5.41 20L4 18.59l7.72-7.72 1.47 1.35L5.41 20z\"/>\n",
              "  </svg>\n",
              "      </button>\n",
              "      \n",
              "  <style>\n",
              "    .colab-df-container {\n",
              "      display:flex;\n",
              "      flex-wrap:wrap;\n",
              "      gap: 12px;\n",
              "    }\n",
              "\n",
              "    .colab-df-convert {\n",
              "      background-color: #E8F0FE;\n",
              "      border: none;\n",
              "      border-radius: 50%;\n",
              "      cursor: pointer;\n",
              "      display: none;\n",
              "      fill: #1967D2;\n",
              "      height: 32px;\n",
              "      padding: 0 0 0 0;\n",
              "      width: 32px;\n",
              "    }\n",
              "\n",
              "    .colab-df-convert:hover {\n",
              "      background-color: #E2EBFA;\n",
              "      box-shadow: 0px 1px 2px rgba(60, 64, 67, 0.3), 0px 1px 3px 1px rgba(60, 64, 67, 0.15);\n",
              "      fill: #174EA6;\n",
              "    }\n",
              "\n",
              "    [theme=dark] .colab-df-convert {\n",
              "      background-color: #3B4455;\n",
              "      fill: #D2E3FC;\n",
              "    }\n",
              "\n",
              "    [theme=dark] .colab-df-convert:hover {\n",
              "      background-color: #434B5C;\n",
              "      box-shadow: 0px 1px 3px 1px rgba(0, 0, 0, 0.15);\n",
              "      filter: drop-shadow(0px 1px 2px rgba(0, 0, 0, 0.3));\n",
              "      fill: #FFFFFF;\n",
              "    }\n",
              "  </style>\n",
              "\n",
              "      <script>\n",
              "        const buttonEl =\n",
              "          document.querySelector('#df-b5a820c6-cd78-4b11-9aa6-d1ebdd05ab97 button.colab-df-convert');\n",
              "        buttonEl.style.display =\n",
              "          google.colab.kernel.accessAllowed ? 'block' : 'none';\n",
              "\n",
              "        async function convertToInteractive(key) {\n",
              "          const element = document.querySelector('#df-b5a820c6-cd78-4b11-9aa6-d1ebdd05ab97');\n",
              "          const dataTable =\n",
              "            await google.colab.kernel.invokeFunction('convertToInteractive',\n",
              "                                                     [key], {});\n",
              "          if (!dataTable) return;\n",
              "\n",
              "          const docLinkHtml = 'Like what you see? Visit the ' +\n",
              "            '<a target=\"_blank\" href=https://colab.research.google.com/notebooks/data_table.ipynb>data table notebook</a>'\n",
              "            + ' to learn more about interactive tables.';\n",
              "          element.innerHTML = '';\n",
              "          dataTable['output_type'] = 'display_data';\n",
              "          await google.colab.output.renderOutput(dataTable, element);\n",
              "          const docLink = document.createElement('div');\n",
              "          docLink.innerHTML = docLinkHtml;\n",
              "          element.appendChild(docLink);\n",
              "        }\n",
              "      </script>\n",
              "    </div>\n",
              "  </div>\n",
              "  "
            ]
          },
          "metadata": {},
          "execution_count": 15
        }
      ],
      "source": [
        "df_norm = df_norm.replace({\"F15\": 0, \"F16\": 1,\"F18\": 2})\n",
        "df_norm.sample(5)"
      ]
    },
    {
      "cell_type": "markdown",
      "metadata": {
        "id": "rE6ERVGmA9Zl"
      },
      "source": [
        "## Train Test Split\n",
        "In order to balance the classes between train/test we first group them by class and split each class into train and test"
      ]
    },
    {
      "cell_type": "code",
      "execution_count": 16,
      "metadata": {
        "id": "oPyHqBjw_1FH"
      },
      "outputs": [],
      "source": [
        "#Create Train and Test sets\n",
        "train_dfs = []\n",
        "test_dfs = []\n",
        "\n",
        "grouped = df_norm.groupby('class') \n",
        "\n",
        "for category, group_df in grouped:\n",
        "    # Divide the sets\n",
        "    train_df, test_df = train_test_split(group_df, test_size=0.2, random_state=42) #For each group, we set an 80% train 20%test\n",
        "    train_dfs.append(train_df)\n",
        "    test_dfs.append(test_df)\n",
        "    \n",
        "train_df = pd.concat(train_dfs)\n",
        "test_df = pd.concat(test_dfs)\n"
      ]
    },
    {
      "cell_type": "code",
      "execution_count": 17,
      "metadata": {
        "id": "IKA6KcDzBz-Q",
        "colab": {
          "base_uri": "https://localhost:8080/"
        },
        "outputId": "0dd14533-71b5-4246-e329-de197df7c431"
      },
      "outputs": [
        {
          "output_type": "stream",
          "name": "stdout",
          "text": [
            "----------- TRAIN -------------\n",
            "Total: 2529\n",
            "1    848\n",
            "0    842\n",
            "2    839\n",
            "Name: class, dtype: int64\n",
            "\n",
            "----------- TEST -------------\n",
            "Total: 633\n",
            "1    212\n",
            "0    211\n",
            "2    210\n",
            "Name: class, dtype: int64\n"
          ]
        }
      ],
      "source": [
        "print(\"----------- TRAIN -------------\")\n",
        "print(\"Total: \"+ str(len(train_df)))\n",
        "print(train_df[\"class\"].value_counts())\n",
        "print(\"\\n----------- TEST -------------\")\n",
        "print(\"Total: \" + str(len(test_df)))\n",
        "print(test_df[\"class\"].value_counts())\n"
      ]
    },
    {
      "cell_type": "markdown",
      "metadata": {
        "id": "916X7xsejw3K"
      },
      "source": [
        "# Using YOLO\n",
        "We will download the YOLOv5 repo in order to change the classes in its model to ours so it can classify them\n"
      ]
    },
    {
      "cell_type": "markdown",
      "metadata": {
        "id": "ezcXQSM-jw3K"
      },
      "source": [
        "## Downloading repo and installing dependencies\n"
      ]
    },
    {
      "cell_type": "code",
      "execution_count": 18,
      "metadata": {
        "colab": {
          "base_uri": "https://localhost:8080/"
        },
        "id": "nASbwRUpjw3K",
        "outputId": "08238a2f-7451-4272-aa63-c43f1d9b160a"
      },
      "outputs": [
        {
          "output_type": "stream",
          "name": "stdout",
          "text": [
            "fatal: destination path '../references/yolov5' already exists and is not an empty directory.\n"
          ]
        }
      ],
      "source": [
        "!git clone https://github.com/ultralytics/yolov5 ../references/yolov5  # clone\n",
        "%pip install -qr ../references/yolov5/requirements.txt  # install"
      ]
    },
    {
      "cell_type": "markdown",
      "metadata": {
        "id": "XeCp3maWjw3K"
      },
      "source": [
        "## Copying our .yml config file to yolov5 folder\n",
        "The file contains the info necessary for the 5 classes we will be using"
      ]
    },
    {
      "cell_type": "code",
      "execution_count": 19,
      "metadata": {
        "id": "qAUP2k1-jw3L"
      },
      "outputs": [],
      "source": [
        "!cp yolo_files/skydefender.yaml ../references/yolov5/data"
      ]
    },
    {
      "cell_type": "markdown",
      "metadata": {
        "id": "JlMH4fpMjw3L"
      },
      "source": [
        "### Creating folder structure for yolov5"
      ]
    },
    {
      "cell_type": "code",
      "execution_count": 20,
      "metadata": {
        "id": "njGR0hWNjw3L"
      },
      "outputs": [],
      "source": [
        "# yolov5\n",
        "#   -images\n",
        "#    |- train\n",
        "#    |- val\n",
        "#   -labels\n",
        "#    |- train\n",
        "#    |- val\n",
        "!rm -fr ../data/processed/yolov5\n",
        "\n",
        "!mkdir -p ../data/processed/yolov5\n",
        "!mkdir -p ../data/processed/yolov5/images\n",
        "!mkdir -p ../data/processed/yolov5/labels\n",
        "!mkdir -p ../data/processed/yolov5/images/train\n",
        "!mkdir -p ../data/processed/yolov5/images/val\n",
        "!mkdir -p ../data/processed/yolov5/labels/train\n",
        "!mkdir -p ../data/processed/yolov5/labels/val\n"
      ]
    },
    {
      "cell_type": "markdown",
      "metadata": {
        "id": "HFWABkbMjw3L"
      },
      "source": [
        "### Copying images to its folder"
      ]
    },
    {
      "cell_type": "code",
      "execution_count": 21,
      "metadata": {
        "id": "3qAN_xJ9jw3L"
      },
      "outputs": [],
      "source": [
        "import shutil\n",
        "\n",
        "grouped_train = train_df.groupby('filename')\n",
        "grouped_test = test_df.groupby('filename')\n",
        "\n",
        "def convert_yolo(group, folder):\n",
        "    for i, (filename, df) in enumerate(group, 1):\n",
        "        # Create file in labels\n",
        "        with open(f\"../data/processed/yolov5/labels/{folder}/{i}.txt\", \"w+\") as f:\n",
        "            for _, row in df.iterrows():\n",
        "                line = str(\n",
        "                    f\"{row['class']} {row['x_center']} {row['y_center']} {row['width']} {row['height']}\\n\")\n",
        "                f.write(line)\n",
        "        # Move the image and change its name\n",
        "        shutil.copy(f\"../data/raw/{filename}.jpg\",\n",
        "                    f\"../data/processed/yolov5/images/{folder}/{i}.jpg\")\n",
        "        \n",
        "convert_yolo(grouped_train, \"train\")\n",
        "convert_yolo(grouped_test, \"val\")\n"
      ]
    },
    {
      "cell_type": "code",
      "execution_count": 22,
      "metadata": {
        "colab": {
          "base_uri": "https://localhost:8080/"
        },
        "id": "6WOUkEhPjw3L",
        "outputId": "7ba4002b-1fc2-4d44-a40e-788ceaa3140c"
      },
      "outputs": [
        {
          "output_type": "stream",
          "name": "stderr",
          "text": [
            "YOLOv5 🚀 v7.0-172-gc3c1304 Python-3.10.11 torch-2.0.1+cu118 CUDA:0 (Tesla T4, 15102MiB)\n"
          ]
        },
        {
          "output_type": "stream",
          "name": "stdout",
          "text": [
            "Setup complete ✅ (2 CPUs, 12.7 GB RAM, 42.9/78.2 GB disk)\n",
            "/content/sky-defender/notebooks\n"
          ]
        }
      ],
      "source": [
        "%cd ../references/yolov5\n",
        "import torch\n",
        "import utils\n",
        "display = utils.notebook_init()  # checks\n",
        "%cd ../../notebooks"
      ]
    },
    {
      "cell_type": "code",
      "execution_count": 25,
      "metadata": {
        "colab": {
          "base_uri": "https://localhost:8080/"
        },
        "id": "lRMaHrGrjw3O",
        "outputId": "08af7d3a-08e6-4edb-e5d6-bba34584888b"
      },
      "outputs": [
        {
          "output_type": "stream",
          "name": "stdout",
          "text": [
            "\u001b[34m\u001b[1mtrain: \u001b[0mweights=yolov5s.pt, cfg=, data=skydefender.yaml, hyp=../references/yolov5/data/hyps/hyp.scratch-low.yaml, epochs=5, batch_size=16, imgsz=640, rect=False, resume=False, nosave=True, noval=False, noautoanchor=False, noplots=False, evolve=None, bucket=, cache=ram, image_weights=False, device=, multi_scale=False, single_cls=False, optimizer=SGD, sync_bn=False, workers=8, project=../references/yolov5/runs/train, name=exp, exist_ok=False, quad=False, cos_lr=False, label_smoothing=0.0, patience=100, freeze=[0], save_period=-1, seed=0, local_rank=-1, entity=None, upload_dataset=False, bbox_interval=-1, artifact_alias=latest\n",
            "\u001b[34m\u001b[1mgithub: \u001b[0mup to date with https://github.com/ultralytics/yolov5 ✅\n",
            "YOLOv5 🚀 v7.0-172-gc3c1304 Python-3.10.11 torch-2.0.1+cu118 CUDA:0 (Tesla T4, 15102MiB)\n",
            "\n",
            "\u001b[34m\u001b[1mhyperparameters: \u001b[0mlr0=0.01, lrf=0.01, momentum=0.937, weight_decay=0.0005, warmup_epochs=3.0, warmup_momentum=0.8, warmup_bias_lr=0.1, box=0.05, cls=0.5, cls_pw=1.0, obj=1.0, obj_pw=1.0, iou_t=0.2, anchor_t=4.0, fl_gamma=0.0, hsv_h=0.015, hsv_s=0.7, hsv_v=0.4, degrees=0.0, translate=0.1, scale=0.5, shear=0.0, perspective=0.0, flipud=0.0, fliplr=0.5, mosaic=1.0, mixup=0.0, copy_paste=0.0\n",
            "\u001b[34m\u001b[1mClearML: \u001b[0mrun 'pip install clearml' to automatically track, visualize and remotely train YOLOv5 🚀 in ClearML\n",
            "\u001b[34m\u001b[1mComet: \u001b[0mrun 'pip install comet_ml' to automatically track and visualize YOLOv5 🚀 runs in Comet\n",
            "\u001b[34m\u001b[1mTensorBoard: \u001b[0mStart with 'tensorboard --logdir ../references/yolov5/runs/train', view at http://localhost:6006/\n",
            "Downloading https://github.com/ultralytics/yolov5/releases/download/v7.0/yolov5s.pt to yolov5s.pt...\n",
            "100% 14.1M/14.1M [00:00<00:00, 267MB/s]\n",
            "\n",
            "Overriding model.yaml nc=80 with nc=3\n",
            "\n",
            "                 from  n    params  module                                  arguments                     \n",
            "  0                -1  1      3520  models.common.Conv                      [3, 32, 6, 2, 2]              \n",
            "  1                -1  1     18560  models.common.Conv                      [32, 64, 3, 2]                \n",
            "  2                -1  1     18816  models.common.C3                        [64, 64, 1]                   \n",
            "  3                -1  1     73984  models.common.Conv                      [64, 128, 3, 2]               \n",
            "  4                -1  2    115712  models.common.C3                        [128, 128, 2]                 \n",
            "  5                -1  1    295424  models.common.Conv                      [128, 256, 3, 2]              \n",
            "  6                -1  3    625152  models.common.C3                        [256, 256, 3]                 \n",
            "  7                -1  1   1180672  models.common.Conv                      [256, 512, 3, 2]              \n",
            "  8                -1  1   1182720  models.common.C3                        [512, 512, 1]                 \n",
            "  9                -1  1    656896  models.common.SPPF                      [512, 512, 5]                 \n",
            " 10                -1  1    131584  models.common.Conv                      [512, 256, 1, 1]              \n",
            " 11                -1  1         0  torch.nn.modules.upsampling.Upsample    [None, 2, 'nearest']          \n",
            " 12           [-1, 6]  1         0  models.common.Concat                    [1]                           \n",
            " 13                -1  1    361984  models.common.C3                        [512, 256, 1, False]          \n",
            " 14                -1  1     33024  models.common.Conv                      [256, 128, 1, 1]              \n",
            " 15                -1  1         0  torch.nn.modules.upsampling.Upsample    [None, 2, 'nearest']          \n",
            " 16           [-1, 4]  1         0  models.common.Concat                    [1]                           \n",
            " 17                -1  1     90880  models.common.C3                        [256, 128, 1, False]          \n",
            " 18                -1  1    147712  models.common.Conv                      [128, 128, 3, 2]              \n",
            " 19          [-1, 14]  1         0  models.common.Concat                    [1]                           \n",
            " 20                -1  1    296448  models.common.C3                        [256, 256, 1, False]          \n",
            " 21                -1  1    590336  models.common.Conv                      [256, 256, 3, 2]              \n",
            " 22          [-1, 10]  1         0  models.common.Concat                    [1]                           \n",
            " 23                -1  1   1182720  models.common.C3                        [512, 512, 1, False]          \n",
            " 24      [17, 20, 23]  1     21576  models.yolo.Detect                      [3, [[10, 13, 16, 30, 33, 23], [30, 61, 62, 45, 59, 119], [116, 90, 156, 198, 373, 326]], [128, 256, 512]]\n",
            "Model summary: 214 layers, 7027720 parameters, 7027720 gradients, 16.0 GFLOPs\n",
            "\n",
            "Transferred 343/349 items from yolov5s.pt\n",
            "\u001b[34m\u001b[1mAMP: \u001b[0mchecks passed ✅\n",
            "\u001b[34m\u001b[1moptimizer:\u001b[0m SGD(lr=0.01) with parameter groups 57 weight(decay=0.0), 60 weight(decay=0.0005), 60 bias\n",
            "\u001b[34m\u001b[1malbumentations: \u001b[0mBlur(p=0.01, blur_limit=(3, 7)), MedianBlur(p=0.01, blur_limit=(3, 7)), ToGray(p=0.01), CLAHE(p=0.01, clip_limit=(1, 4.0), tile_grid_size=(8, 8))\n",
            "\u001b[34m\u001b[1mtrain: \u001b[0mScanning /content/sky-defender/data/processed/yolov5/labels/train... 1495 images, 0 backgrounds, 0 corrupt: 100% 1495/1495 [00:02<00:00, 610.01it/s]\n",
            "\u001b[34m\u001b[1mtrain: \u001b[0mWARNING ⚠️ /content/sky-defender/data/processed/yolov5/images/train/356.jpg: corrupt JPEG restored and saved\n",
            "\u001b[34m\u001b[1mtrain: \u001b[0mNew cache created: /content/sky-defender/data/processed/yolov5/labels/train.cache\n",
            "\u001b[34m\u001b[1mtrain: \u001b[0mCaching images (1.1GB ram): 100% 1495/1495 [01:40<00:00, 14.89it/s]\n",
            "\u001b[34m\u001b[1mval: \u001b[0mScanning /content/sky-defender/data/processed/yolov5/labels/val... 533 images, 0 backgrounds, 0 corrupt: 100% 533/533 [00:01<00:00, 328.16it/s]\n",
            "\u001b[34m\u001b[1mval: \u001b[0mNew cache created: /content/sky-defender/data/processed/yolov5/labels/val.cache\n",
            "\u001b[34m\u001b[1mval: \u001b[0mCaching images (0.4GB ram): 100% 533/533 [00:48<00:00, 10.94it/s]\n",
            "\n",
            "\u001b[34m\u001b[1mAutoAnchor: \u001b[0m3.93 anchors/target, 1.000 Best Possible Recall (BPR). Current anchors are a good fit to dataset ✅\n",
            "Plotting labels to ../references/yolov5/runs/train/exp5/labels.jpg... \n",
            "Image sizes 640 train, 640 val\n",
            "Using 2 dataloader workers\n",
            "Logging results to \u001b[1m../references/yolov5/runs/train/exp5\u001b[0m\n",
            "Starting training for 5 epochs...\n",
            "\n",
            "      Epoch    GPU_mem   box_loss   obj_loss   cls_loss  Instances       Size\n",
            "        0/4      3.49G    0.08982    0.03231    0.03947         24        640: 100% 94/94 [00:30<00:00,  3.07it/s]\n",
            "                 Class     Images  Instances          P          R      mAP50   mAP50-95: 100% 17/17 [00:07<00:00,  2.30it/s]\n",
            "                   all        533        633      0.104      0.265     0.0774     0.0284\n",
            "\n",
            "      Epoch    GPU_mem   box_loss   obj_loss   cls_loss  Instances       Size\n",
            "        1/4      5.08G    0.05883    0.02736    0.03642         31        640: 100% 94/94 [00:24<00:00,  3.80it/s]\n",
            "                 Class     Images  Instances          P          R      mAP50   mAP50-95: 100% 17/17 [00:05<00:00,  2.91it/s]\n",
            "                   all        533        633     0.0859      0.338     0.0709     0.0319\n",
            "\n",
            "      Epoch    GPU_mem   box_loss   obj_loss   cls_loss  Instances       Size\n",
            "        2/4      5.08G    0.05209    0.02397    0.03601         20        640: 100% 94/94 [00:23<00:00,  3.94it/s]\n",
            "                 Class     Images  Instances          P          R      mAP50   mAP50-95: 100% 17/17 [00:05<00:00,  3.09it/s]\n",
            "                   all        533        633      0.126      0.395      0.128     0.0694\n",
            "\n",
            "      Epoch    GPU_mem   box_loss   obj_loss   cls_loss  Instances       Size\n",
            "        3/4      5.08G    0.04435     0.0224    0.03578         18        640: 100% 94/94 [00:24<00:00,  3.89it/s]\n",
            "                 Class     Images  Instances          P          R      mAP50   mAP50-95: 100% 17/17 [00:05<00:00,  3.36it/s]\n",
            "                   all        533        633      0.127       0.54      0.127     0.0703\n",
            "\n",
            "      Epoch    GPU_mem   box_loss   obj_loss   cls_loss  Instances       Size\n",
            "        4/4      5.08G    0.04131    0.02167    0.03566         16        640: 100% 94/94 [00:24<00:00,  3.76it/s]\n",
            "                 Class     Images  Instances          P          R      mAP50   mAP50-95: 100% 17/17 [00:04<00:00,  3.59it/s]\n",
            "                   all        533        633      0.131      0.591      0.145     0.0897\n",
            "\n",
            "5 epochs completed in 0.044 hours.\n",
            "Optimizer stripped from ../references/yolov5/runs/train/exp5/weights/last.pt, 14.4MB\n",
            "Optimizer stripped from ../references/yolov5/runs/train/exp5/weights/best.pt, 14.4MB\n",
            "\n",
            "Validating ../references/yolov5/runs/train/exp5/weights/best.pt...\n",
            "Fusing layers... \n",
            "Model summary: 157 layers, 7018216 parameters, 0 gradients, 15.8 GFLOPs\n",
            "                 Class     Images  Instances          P          R      mAP50   mAP50-95: 100% 17/17 [00:07<00:00,  2.16it/s]\n",
            "                   all        533        633      0.131      0.589      0.145     0.0893\n",
            "                   F15        533        211      0.145      0.693      0.182      0.114\n",
            "                   F16        533        212       0.12      0.552      0.133     0.0796\n",
            "                   F18        533        210      0.128      0.524       0.12      0.074\n",
            "Results saved to \u001b[1m../references/yolov5/runs/train/exp5\u001b[0m\n"
          ]
        }
      ],
      "source": [
        "# Train YOLOv5s Classification\n",
        "!python ../references/yolov5/train.py --weights yolov5s.pt --data skydefender.yaml --epochs 5 --img 640 --nosave --cache"
      ]
    }
  ],
  "metadata": {
    "colab": {
      "provenance": [],
      "gpuType": "T4"
    },
    "kernelspec": {
      "display_name": "Python 3",
      "name": "python3"
    },
    "language_info": {
      "codemirror_mode": {
        "name": "ipython",
        "version": 3
      },
      "file_extension": ".py",
      "mimetype": "text/x-python",
      "name": "python",
      "nbconvert_exporter": "python",
      "pygments_lexer": "ipython3",
      "version": "3.9.16"
    },
    "accelerator": "GPU"
  },
  "nbformat": 4,
  "nbformat_minor": 0
}