{
  "cells": [
    {
      "attachments": {},
      "cell_type": "markdown",
      "metadata": {},
      "source": [
        "# Download Dataset\n",
        "\n",
        "Download (10GB) the Military Aircraft Detection Dataset from Kaggle, unzip just the dataset into raw\n",
        "\n",
        "Total RAW data = 8GB\n",
        "\n",
        "**IMPORTANT**: Api key (json) from Kaggle needs to be added to the notebooks folder of the project in order to download the dataset"
      ]
    },
    {
      "cell_type": "code",
      "execution_count": 1,
      "metadata": {},
      "outputs": [],
      "source": [
        "# Check if in a Google Colab\n",
        "COLAB = False\n",
        "\n",
        "try:\n",
        "    import google.colab\n",
        "    COLAB = True\n",
        "except ImportError:\n",
        "    COLAB = False"
      ]
    },
    {
      "attachments": {},
      "cell_type": "markdown",
      "metadata": {},
      "source": [
        "#### Install Kaggle"
      ]
    },
    {
      "cell_type": "code",
      "execution_count": 2,
      "metadata": {
        "colab": {
          "base_uri": "https://localhost:8080/"
        },
        "id": "kDzHnGtxyW1G",
        "outputId": "7ec5f1cb-5bc6-4f9e-b025-21efe8981540"
      },
      "outputs": [
        {
          "name": "stdout",
          "output_type": "stream",
          "text": [
            "mkdir: /Users/marcgaspajoval/.kaggle: File exists\n"
          ]
        }
      ],
      "source": [
        "\n",
        "! pip install -q kaggle\n",
        "if COLAB:\n",
        "    from google.colab import files\n",
        "    from google.colab import drive\n",
        "    drive.mount('/content/drive')\n",
        "    %cd drive/MyDrive/PAIA/SkyDefender/notebooks\n",
        "\n",
        "!mkdir ~/.kaggle\n",
        "!cp kaggle.json ~/.kaggle/\n",
        "!chmod 600 ~/.kaggle/kaggle.json"
      ]
    },
    {
      "attachments": {},
      "cell_type": "markdown",
      "metadata": {
        "id": "ysdUbg2z7Eib"
      },
      "source": [
        "#### Download Dataset"
      ]
    },
    {
      "cell_type": "code",
      "execution_count": 5,
      "metadata": {
        "colab": {
          "base_uri": "https://localhost:8080/"
        },
        "id": "x8OWVPSsykRs",
        "outputId": "644a1b05-c2b6-472f-ef97-cd031e298525",
        "slideshow": {
          "slide_type": "notes"
        },
        "tags": []
      },
      "outputs": [
        {
          "name": "stdout",
          "output_type": "stream",
          "text": [
            "Downloading militaryaircraftdetectiondataset.zip to ./download\n",
            "  0%|                                      | 29.0M/10.1G [00:02<13:47, 13.0MB/s]^C\n",
            "  0%|                                      | 31.0M/10.1G [00:02<13:25, 13.4MB/s]\n",
            "User cancelled operation\n",
            "unzip:  cannot find or open ../download/militaryaircraftdetectiondataset.zip, ../download/militaryaircraftdetectiondataset.zip.zip or ../download/militaryaircraftdetectiondataset.zip.ZIP.\n"
          ]
        }
      ],
      "source": [
        "TRUE_CONDITIONS = ['y', 'yes']\n",
        "\n",
        "# Download the dataset\n",
        "download = input('\\tYes(Y)/No(N): ')\n",
        "\n",
        "if download.lower() in TRUE_CONDITIONS:\n",
        "    ! mkdir ./download\n",
        "    ! kaggle datasets download -d a2015003713/militaryaircraftdetectiondataset -p ./download\n",
        "    # Unzip the dataset\n",
        "    !mkdir -p ../data/raw\n",
        "    !mkdir -p ../data/interim\n",
        "    !unzip -j ../download/militaryaircraftdetectiondataset.zip \"dataset/*\" -d ./data/raw\n",
        "    # Remove temporal files?\n",
        "    !rm -rf ./download"
      ]
    },
    {
      "attachments": {},
      "cell_type": "markdown",
      "metadata": {
        "id": "Kfa4tztDz9aZ"
      },
      "source": [
        "## Loading Dataset"
      ]
    },
    {
      "cell_type": "code",
      "execution_count": null,
      "metadata": {
        "id": "RkWu4Dr6yAUO"
      },
      "outputs": [],
      "source": [
        "import tensorflow as tf\n",
        "from tensorflow import keras\n",
        "import cv2\n",
        "import os\n",
        "import pandas as pd\n",
        "import numpy as np\n",
        "import matplotlib.pyplot as plt\n",
        "import sklearn\n",
        "from sklearn.model_selection import train_test_split"
      ]
    },
    {
      "cell_type": "code",
      "execution_count": null,
      "metadata": {
        "colab": {
          "base_uri": "https://localhost:8080/",
          "height": 345
        },
        "id": "oRf7Hhf0zzhN",
        "outputId": "b8c1ac03-c89b-405a-e95e-724587b551c9"
      },
      "outputs": [],
      "source": [
        "csv_path = \"./data/raw/\"\n",
        "df = pd.concat([pd.read_csv(csv_path + f, delimiter=',') for f in os.listdir(csv_path) if f.endswith('.csv')], ignore_index=True)"
      ]
    },
    {
      "cell_type": "code",
      "execution_count": null,
      "metadata": {
        "id": "RADlXxOQypd8"
      },
      "outputs": [],
      "source": [
        "df.to_csv('./data/interim/merged_info.csv', index=False)"
      ]
    },
    {
      "attachments": {},
      "cell_type": "markdown",
      "metadata": {},
      "source": [
        "## Checking Null Values"
      ]
    },
    {
      "cell_type": "code",
      "execution_count": null,
      "metadata": {
        "colab": {
          "base_uri": "https://localhost:8080/"
        },
        "id": "b93rjx3R3s3h",
        "outputId": "cea00618-4f24-4852-ec09-cfb1abd50832"
      },
      "outputs": [
        {
          "name": "stdout",
          "output_type": "stream",
          "text": [
            "No null values in DF.\n"
          ]
        }
      ],
      "source": [
        "if df.isnull().values.any():\n",
        "    print(\"There are null values in DF\")\n",
        "else:\n",
        "    print(\"No null values in DF.\")"
      ]
    },
    {
      "attachments": {},
      "cell_type": "markdown",
      "metadata": {},
      "source": [
        "## Examining classes"
      ]
    },
    {
      "cell_type": "code",
      "execution_count": null,
      "metadata": {
        "colab": {
          "base_uri": "https://localhost:8080/",
          "height": 423
        },
        "id": "Uskws4j430Pd",
        "outputId": "145cfd6d-5668-47c6-8fa1-cf2506ecfc2e"
      },
      "outputs": [
        {
          "data": {
            "text/plain": [
              "<Axes: ylabel='count'>"
            ]
          },
          "execution_count": 16,
          "metadata": {},
          "output_type": "execute_result"
        },
        {
          "data": {
            "image/png": "[encoded data removed]",
            "text/plain": [
              "<Figure size 640x480 with 1 Axes>"
            ]
          },
          "metadata": {},
          "output_type": "display_data"
        }
      ],
      "source": [
        "df[\"class\"].value_counts().head(15).plot(kind=\"pie\") #See where can we reduce a bit our dataset"
      ]
    },
    {
      "attachments": {},
      "cell_type": "markdown",
      "metadata": {},
      "source": [
        "## Reducing classes\n",
        "Because the dataset is very large and our project is focused more in object detection, we will be using just 3 classes in order to reduce computing time "
      ]
    },
    {
      "cell_type": "code",
      "execution_count": null,
      "metadata": {
        "colab": {
          "base_uri": "https://localhost:8080/",
          "height": 441
        },
        "id": "HhRedQRe33Gc",
        "outputId": "9fc58dc9-1797-42d3-b15e-a88836dac298"
      },
      "outputs": [
        {
          "name": "stdout",
          "output_type": "stream",
          "text": [
            "Reduced from 17968 rows to 3162 rows\n"
          ]
        },
        {
          "data": {
            "text/plain": [
              "<Axes: ylabel='count'>"
            ]
          },
          "execution_count": 18,
          "metadata": {},
          "output_type": "execute_result"
        },
        {
          "data": {
            "image/png": "[encoded data removed]",
            "text/plain": [
              "<Figure size 640x480 with 1 Axes>"
            ]
          },
          "metadata": {},
          "output_type": "display_data"
        }
      ],
      "source": [
        "target = [\"F16\", \"F15\", \"F18\"] #Classes we want to keep\n",
        "\n",
        "df_reduced = df.loc[df[\"class\"].isin(target)].copy(deep=True)\n",
        "\n",
        "print(f\"Reduced from {len(df.index)} rows to {len(df_reduced.index)} rows\")\n",
        "df_reduced[\"class\"].value_counts().plot(kind=\"pie\")"
      ]
    },
    {
      "attachments": {},
      "cell_type": "markdown",
      "metadata": {},
      "source": [
        "# Loading images"
      ]
    },
    {
      "attachments": {},
      "cell_type": "markdown",
      "metadata": {},
      "source": [
        "## Adding paths to images"
      ]
    },
    {
      "cell_type": "code",
      "execution_count": null,
      "metadata": {
        "colab": {
          "base_uri": "https://localhost:8080/",
          "height": 206
        },
        "id": "jkISR6Ho35RH",
        "outputId": "2185ea3e-04df-4809-cd49-dc2fb046f498"
      },
      "outputs": [
        {
          "data": {
            "text/html": [
              "<div>\n",
              "<style scoped>\n",
              "    .dataframe tbody tr th:only-of-type {\n",
              "        vertical-align: middle;\n",
              "    }\n",
              "\n",
              "    .dataframe tbody tr th {\n",
              "        vertical-align: top;\n",
              "    }\n",
              "\n",
              "    .dataframe thead th {\n",
              "        text-align: right;\n",
              "    }\n",
              "</style>\n",
              "<table border=\"1\" class=\"dataframe\">\n",
              "  <thead>\n",
              "    <tr style=\"text-align: right;\">\n",
              "      <th></th>\n",
              "      <th>filename</th>\n",
              "      <th>width</th>\n",
              "      <th>height</th>\n",
              "      <th>class</th>\n",
              "      <th>xmin</th>\n",
              "      <th>ymin</th>\n",
              "      <th>xmax</th>\n",
              "      <th>ymax</th>\n",
              "      <th>filepath</th>\n",
              "    </tr>\n",
              "  </thead>\n",
              "  <tbody>\n",
              "    <tr>\n",
              "      <th>0</th>\n",
              "      <td>c63ae96d05c500d4ab9806f3ae58e122</td>\n",
              "      <td>2048</td>\n",
              "      <td>1365</td>\n",
              "      <td>F16</td>\n",
              "      <td>193</td>\n",
              "      <td>372</td>\n",
              "      <td>826</td>\n",
              "      <td>984</td>\n",
              "      <td>./data/raw/c63ae96d05c500d4ab9806f3ae58e122.jpg</td>\n",
              "    </tr>\n",
              "    <tr>\n",
              "      <th>4</th>\n",
              "      <td>43139586ca5df4d371243edff3ccc042</td>\n",
              "      <td>1800</td>\n",
              "      <td>1200</td>\n",
              "      <td>F15</td>\n",
              "      <td>1349</td>\n",
              "      <td>959</td>\n",
              "      <td>1475</td>\n",
              "      <td>993</td>\n",
              "      <td>./data/raw/43139586ca5df4d371243edff3ccc042.jpg</td>\n",
              "    </tr>\n",
              "    <tr>\n",
              "      <th>9</th>\n",
              "      <td>5f57bc06c34226b3f371ba5bab097b1c</td>\n",
              "      <td>1800</td>\n",
              "      <td>1200</td>\n",
              "      <td>F18</td>\n",
              "      <td>138</td>\n",
              "      <td>195</td>\n",
              "      <td>193</td>\n",
              "      <td>217</td>\n",
              "      <td>./data/raw/5f57bc06c34226b3f371ba5bab097b1c.jpg</td>\n",
              "    </tr>\n",
              "    <tr>\n",
              "      <th>10</th>\n",
              "      <td>5f57bc06c34226b3f371ba5bab097b1c</td>\n",
              "      <td>1800</td>\n",
              "      <td>1200</td>\n",
              "      <td>F18</td>\n",
              "      <td>1257</td>\n",
              "      <td>382</td>\n",
              "      <td>1342</td>\n",
              "      <td>418</td>\n",
              "      <td>./data/raw/5f57bc06c34226b3f371ba5bab097b1c.jpg</td>\n",
              "    </tr>\n",
              "    <tr>\n",
              "      <th>33</th>\n",
              "      <td>bc02bc3564f44267ef9ff6baa4dfbede</td>\n",
              "      <td>1800</td>\n",
              "      <td>1200</td>\n",
              "      <td>F15</td>\n",
              "      <td>87</td>\n",
              "      <td>179</td>\n",
              "      <td>727</td>\n",
              "      <td>583</td>\n",
              "      <td>./data/raw/bc02bc3564f44267ef9ff6baa4dfbede.jpg</td>\n",
              "    </tr>\n",
              "  </tbody>\n",
              "</table>\n",
              "</div>"
            ],
            "text/plain": [
              "                            filename  width  height class  xmin  ymin  xmax   \n",
              "0   c63ae96d05c500d4ab9806f3ae58e122   2048    1365   F16   193   372   826  \\\n",
              "4   43139586ca5df4d371243edff3ccc042   1800    1200   F15  1349   959  1475   \n",
              "9   5f57bc06c34226b3f371ba5bab097b1c   1800    1200   F18   138   195   193   \n",
              "10  5f57bc06c34226b3f371ba5bab097b1c   1800    1200   F18  1257   382  1342   \n",
              "33  bc02bc3564f44267ef9ff6baa4dfbede   1800    1200   F15    87   179   727   \n",
              "\n",
              "    ymax                                         filepath  \n",
              "0    984  ./data/raw/c63ae96d05c500d4ab9806f3ae58e122.jpg  \n",
              "4    993  ./data/raw/43139586ca5df4d371243edff3ccc042.jpg  \n",
              "9    217  ./data/raw/5f57bc06c34226b3f371ba5bab097b1c.jpg  \n",
              "10   418  ./data/raw/5f57bc06c34226b3f371ba5bab097b1c.jpg  \n",
              "33   583  ./data/raw/bc02bc3564f44267ef9ff6baa4dfbede.jpg  "
            ]
          },
          "execution_count": 19,
          "metadata": {},
          "output_type": "execute_result"
        }
      ],
      "source": [
        "# Image location\n",
        "images_dir = '../data/raw/'\n",
        "\n",
        "df_clean = df_reduced.copy(deep = True)\n",
        "\n",
        "# Add the filepath to the image into the dataframe\n",
        "df_clean['filepath'] = images_dir + df['filename'] + '.jpg'\n",
        "df_clean.head()"
      ]
    },
    {
      "attachments": {},
      "cell_type": "markdown",
      "metadata": {},
      "source": [
        "## Normalize images and bounding boxes"
      ]
    },
    {
      "cell_type": "code",
      "execution_count": null,
      "metadata": {
        "colab": {
          "base_uri": "https://localhost:8080/",
          "height": 356
        },
        "id": "nbALIZLUK-_u",
        "outputId": "462cd63a-92af-47e5-83f5-5e990dc9e0ba"
      },
      "outputs": [],
      "source": [
        "df_img = df_clean.copy(deep = True)\n",
        "height = 256\n",
        "width = 256\n",
        "# Iteración sobre el dataframe\n",
        "for index, row in df_clean.iterrows():\n",
        "    # Leer la ruta de la imagen del dataframe\n",
        "    filepath = row['filepath']\n",
        "    \n",
        "    # Cargar la imagen utilizando TensorFlow\n",
        "    img = tf.keras.preprocessing.image.load_img(filepath, target_size=(height, width))  # Ajusta height y width a tus dimensiones deseadas\n",
        "    \n",
        "    # Convertir la imagen a un arreglo numpy\n",
        "    img_array = tf.keras.preprocessing.image.img_to_array(img)\n",
        "    \n",
        "    # Normalizar los valores de píxel a un rango entre 0 y 1\n",
        "    img_array /= 255.0\n",
        "    \n",
        "    # Calcular las coordenadas normalizadas\n",
        "    x_min = row['xmin'] / width\n",
        "    y_min = row['ymin'] / height\n",
        "    x_max = row['xmax'] / width\n",
        "    y_max = row['ymax'] / height\n",
        "    \n",
        "    # Obtener la etiqueta de clase\n",
        "    label = row['class']\n",
        "    \n",
        "    # Guardar las coordenadas normalizadas y la etiqueta en el dataframe\n",
        "    df_img.at[index, 'x_min_norm'] = x_min\n",
        "    df_img.at[index, 'y_min_norm'] = y_min\n",
        "    df_img.at[index, 'x_max_norm'] = x_max\n",
        "    df_img.at[index, 'y_max_norm'] = y_max\n",
        "    df_img.at[index, 'label'] = label"
      ]
    },
    {
      "attachments": {},
      "cell_type": "markdown",
      "metadata": {
        "id": "rE6ERVGmA9Zl"
      },
      "source": [
        "## Train Test Split"
      ]
    },
    {
      "cell_type": "code",
      "execution_count": null,
      "metadata": {
        "id": "oPyHqBjw_1FH"
      },
      "outputs": [],
      "source": [
        "#Create Train and Test sets\n",
        "train_dfs = []\n",
        "test_dfs = []\n",
        "\n",
        "grouped = df_clean.groupby('class') \n",
        "\n",
        "for category, group_df in grouped:\n",
        "    # Divide the sets\n",
        "    train_df, test_df = train_test_split(group_df, test_size=0.2, random_state=42) #For each group, we set an 80% train 20%test\n",
        "    train_dfs.append(train_df)\n",
        "    test_dfs.append(test_df)"
      ]
    },
    {
      "cell_type": "code",
      "execution_count": null,
      "metadata": {
        "id": "RmqPBHl-Atg3"
      },
      "outputs": [],
      "source": [
        "train_df = pd.concat(train_dfs)\n",
        "test_df = pd.concat(test_dfs)"
      ]
    },
    {
      "cell_type": "code",
      "execution_count": null,
      "metadata": {
        "id": "IKA6KcDzBz-Q"
      },
      "outputs": [],
      "source": [
        "print(test_df.head())\n",
        "print(\"------------------------\")\n",
        "print(\"Total: \" + str(len(test_df)))"
      ]
    },
    {
      "cell_type": "code",
      "execution_count": null,
      "metadata": {
        "id": "NEqJVrHTB0-E"
      },
      "outputs": [],
      "source": [
        "print(train_df.head())\n",
        "print(\"------------------------\")\n",
        "print(\"Total: \"+ str(len(train_df)))"
      ]
    }
  ],
  "metadata": {
    "colab": {
      "provenance": []
    },
    "kernelspec": {
      "display_name": "Python 3",
      "name": "python3"
    },
    "language_info": {
      "codemirror_mode": {
        "name": "ipython",
        "version": 3
      },
      "file_extension": ".py",
      "mimetype": "text/x-python",
      "name": "python",
      "nbconvert_exporter": "python",
      "pygments_lexer": "ipython3",
      "version": "3.9.16"
    }
  },
  "nbformat": 4,
  "nbformat_minor": 0
}
