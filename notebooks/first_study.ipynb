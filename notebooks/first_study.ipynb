{
 "cells": [
  {
   "cell_type": "code",
   "execution_count": 13,
   "metadata": {
    "collapsed": true,
    "ExecuteTime": {
     "start_time": "2023-05-02T12:12:05.363338Z",
     "end_time": "2023-05-02T12:12:05.759003Z"
    }
   },
   "outputs": [],
   "source": [
    "import tensorflow as tf\n",
    "from tensorflow import keras\n",
    "import cv2\n",
    "import os\n",
    "import pandas as pd\n",
    "import numpy as np\n",
    "import matplotlib.pyplot as plt"
   ]
  },
  {
   "cell_type": "markdown",
   "source": [
    "#Import the CSV's and Images"
   ],
   "metadata": {
    "collapsed": false
   }
  },
  {
   "cell_type": "code",
   "execution_count": 27,
   "outputs": [],
   "source": [
    "csv_path = \"../data/raw/archive/dataset/\"\n",
    "df = pd.concat([pd.read_csv(csv_path + f, delimiter=',') for f in os.listdir(csv_path) if f.endswith('.csv')], ignore_index=True)\n",
    "df.to_csv('../data/raw/archive/dataset/merged_info.csv', index=False)"
   ],
   "metadata": {
    "collapsed": false,
    "ExecuteTime": {
     "start_time": "2023-05-02T13:10:47.591912Z",
     "end_time": "2023-05-02T13:11:55.663996Z"
    }
   }
  },
  {
   "cell_type": "code",
   "execution_count": 18,
   "outputs": [
    {
     "name": "stdout",
     "output_type": "stream",
     "text": [
      "Rows and columns of the DataFrame (17491, 8)\n"
     ]
    }
   ],
   "source": [
    "print(\"Rows and columns of the DataFrame\" , df.shape)"
   ],
   "metadata": {
    "collapsed": false,
    "ExecuteTime": {
     "start_time": "2023-05-02T12:20:13.543039Z",
     "end_time": "2023-05-02T12:20:13.558600Z"
    }
   }
  },
  {
   "cell_type": "code",
   "execution_count": 19,
   "outputs": [
    {
     "name": "stdout",
     "output_type": "stream",
     "text": [
      "No null values in DF.\n"
     ]
    }
   ],
   "source": [
    "if df.isnull().values.any():\n",
    "    print(\"There are null values in DF\")\n",
    "else:\n",
    "    print(\"No null values in DF.\")"
   ],
   "metadata": {
    "collapsed": false,
    "ExecuteTime": {
     "start_time": "2023-05-02T12:20:15.622660Z",
     "end_time": "2023-05-02T12:20:15.639628Z"
    }
   }
  },
  {
   "cell_type": "code",
   "execution_count": 20,
   "outputs": [
    {
     "data": {
      "text/plain": "                           filename  width  height class  xmin  ymin  xmax  \\\n0  000106393cfe2343888c584e65fd2274   3520    2514   F16     1     1  1796   \n1  00032844ab679240fc03ecd27d29a6aa   1136     852   F18    38     8  1136   \n2  0003f56298fa8999168d7988a2e9549d   4046    2697   F22   213   505  3550   \n3  0003f56298fa8999168d7988a2e9549d   4046    2697   F22   460   563  4046   \n4  000aa01b25574f28b654718db0700f72   2048    1365   F35   852   177  1998   \n\n   ymax  \n0  1451  \n1   654  \n2  1623  \n3  1817  \n4   503  ",
      "text/html": "<div>\n<style scoped>\n    .dataframe tbody tr th:only-of-type {\n        vertical-align: middle;\n    }\n\n    .dataframe tbody tr th {\n        vertical-align: top;\n    }\n\n    .dataframe thead th {\n        text-align: right;\n    }\n</style>\n<table border=\"1\" class=\"dataframe\">\n  <thead>\n    <tr style=\"text-align: right;\">\n      <th></th>\n      <th>filename</th>\n      <th>width</th>\n      <th>height</th>\n      <th>class</th>\n      <th>xmin</th>\n      <th>ymin</th>\n      <th>xmax</th>\n      <th>ymax</th>\n    </tr>\n  </thead>\n  <tbody>\n    <tr>\n      <th>0</th>\n      <td>000106393cfe2343888c584e65fd2274</td>\n      <td>3520</td>\n      <td>2514</td>\n      <td>F16</td>\n      <td>1</td>\n      <td>1</td>\n      <td>1796</td>\n      <td>1451</td>\n    </tr>\n    <tr>\n      <th>1</th>\n      <td>00032844ab679240fc03ecd27d29a6aa</td>\n      <td>1136</td>\n      <td>852</td>\n      <td>F18</td>\n      <td>38</td>\n      <td>8</td>\n      <td>1136</td>\n      <td>654</td>\n    </tr>\n    <tr>\n      <th>2</th>\n      <td>0003f56298fa8999168d7988a2e9549d</td>\n      <td>4046</td>\n      <td>2697</td>\n      <td>F22</td>\n      <td>213</td>\n      <td>505</td>\n      <td>3550</td>\n      <td>1623</td>\n    </tr>\n    <tr>\n      <th>3</th>\n      <td>0003f56298fa8999168d7988a2e9549d</td>\n      <td>4046</td>\n      <td>2697</td>\n      <td>F22</td>\n      <td>460</td>\n      <td>563</td>\n      <td>4046</td>\n      <td>1817</td>\n    </tr>\n    <tr>\n      <th>4</th>\n      <td>000aa01b25574f28b654718db0700f72</td>\n      <td>2048</td>\n      <td>1365</td>\n      <td>F35</td>\n      <td>852</td>\n      <td>177</td>\n      <td>1998</td>\n      <td>503</td>\n    </tr>\n  </tbody>\n</table>\n</div>"
     },
     "execution_count": 20,
     "metadata": {},
     "output_type": "execute_result"
    }
   ],
   "source": [
    "df.head()"
   ],
   "metadata": {
    "collapsed": false,
    "ExecuteTime": {
     "start_time": "2023-05-02T12:20:19.009769Z",
     "end_time": "2023-05-02T12:20:19.042796Z"
    }
   }
  },
  {
   "cell_type": "code",
   "execution_count": 25,
   "outputs": [
    {
     "data": {
      "text/plain": "F16           1042\nF18           1038\nF15           1028\nF35            867\nC130           735\nV22            684\nA10            546\nUS2            541\nF22            517\nB1             508\nC2             501\nF4             481\nEF2000         445\nJ20            439\nJAS39          423\nF14            421\nB52            419\nRafale         415\nC17            409\nB2             400\nAV8B           350\nTornado        345\nE2             342\nMirage2000     337\nC5             312\nA400M          299\nVulcan         295\nSu57           285\nF117           284\nMig31          283\nRQ4            263\nSu34           253\nMQ9            251\nTu160          237\nSR71           235\nU2             233\nBe200          228\nTu95           221\nAG600          181\nXB70           147\nYF23           129\nE7              72\nP3              50\nName: class, dtype: int64"
     },
     "execution_count": 25,
     "metadata": {},
     "output_type": "execute_result"
    }
   ],
   "source": [
    "df[\"class\"].value_counts() #See where can we reduce a bit our dataset"
   ],
   "metadata": {
    "collapsed": false
   }
  },
  {
   "cell_type": "code",
   "execution_count": null,
   "outputs": [],
   "source": [
    "#REMOVE THE CLASSES WE DON'T WANT (OR KEEP THE ONES WE WANT)"
   ],
   "metadata": {
    "collapsed": false
   }
  },
  {
   "cell_type": "code",
   "execution_count": 16,
   "outputs": [
    {
     "ename": "KeyboardInterrupt",
     "evalue": "",
     "output_type": "error",
     "traceback": [
      "\u001B[1;31m---------------------------------------------------------------------------\u001B[0m",
      "\u001B[1;31mKeyboardInterrupt\u001B[0m                         Traceback (most recent call last)",
      "Cell \u001B[1;32mIn[16], line 5\u001B[0m\n\u001B[0;32m      3\u001B[0m \u001B[38;5;28;01mfor\u001B[39;00m f \u001B[38;5;129;01min\u001B[39;00m os\u001B[38;5;241m.\u001B[39mlistdir(img_path):\n\u001B[0;32m      4\u001B[0m     \u001B[38;5;28;01mif\u001B[39;00m f\u001B[38;5;241m.\u001B[39mendswith(\u001B[38;5;124m'\u001B[39m\u001B[38;5;124m.jpg\u001B[39m\u001B[38;5;124m'\u001B[39m):\n\u001B[1;32m----> 5\u001B[0m         img \u001B[38;5;241m=\u001B[39m \u001B[43mcv2\u001B[49m\u001B[38;5;241;43m.\u001B[39;49m\u001B[43mimread\u001B[49m\u001B[43m(\u001B[49m\u001B[43mimg_path\u001B[49m\u001B[43m \u001B[49m\u001B[38;5;241;43m+\u001B[39;49m\u001B[43m \u001B[49m\u001B[43mf\u001B[49m\u001B[43m)\u001B[49m\n",
      "\u001B[1;31mKeyboardInterrupt\u001B[0m: "
     ]
    }
   ],
   "source": [
    "img_path = \"../data/raw/archive/dataset/\"\n",
    "images = []\n",
    "for f in os.listdir(img_path):\n",
    "    if f.endswith('.jpg'):\n",
    "        img = cv2.imread(img_path + f)\n"
   ],
   "metadata": {
    "collapsed": false,
    "ExecuteTime": {
     "start_time": "2023-05-02T12:05:32.263838Z",
     "end_time": "2023-05-02T12:05:32.276837Z"
    }
   }
  }
 ],
 "metadata": {
  "kernelspec": {
   "display_name": "Python 3",
   "language": "python",
   "name": "python3"
  },
  "language_info": {
   "codemirror_mode": {
    "name": "ipython",
    "version": 2
   },
   "file_extension": ".py",
   "mimetype": "text/x-python",
   "name": "python",
   "nbconvert_exporter": "python",
   "pygments_lexer": "ipython2",
   "version": "2.7.6"
  }
 },
 "nbformat": 4,
 "nbformat_minor": 0
}
