{
 "cells": [
  {
   "attachments": {},
   "cell_type": "markdown",
   "metadata": {},
   "source": [
    "# Download Dataset\n",
    "\n",
    "Download (10GB) the Military Aircraft Detection Dataset from Kaggle, unzip just the dataset into raw\n",
    "\n",
    "Total RAW data = 8GB\n",
    "\n",
    "**IMPORTANT**: Api key (json) from Kaggle needs to be added to the notebooks folder of the project in order to download the dataset"
   ]
  },
  {
   "cell_type": "code",
   "execution_count": 2,
   "metadata": {},
   "outputs": [
    {
     "name": "stdout",
     "output_type": "stream",
     "text": [
      "mkdir: /Users/marcgaspajoval/.kaggle: File exists\n"
     ]
    }
   ],
   "source": [
    "# Download tool and add api keys\n",
    "! pip install -q kaggle\n",
    "! mkdir ~/.kaggle\n",
    "! cp kaggle.json ~/.kaggle/\n",
    "! chmod 600 ~/.kaggle/kaggle.json"
   ]
  },
  {
   "cell_type": "code",
   "execution_count": 3,
   "metadata": {},
   "outputs": [],
   "source": [
    "TRUE_CONDITIONS = ['y', 'yes']\n",
    "\n",
    "\n",
    "# Download the dataset\n",
    "delete_temp = input('\\tYes(Y)/No(N): ')\n",
    "\n",
    "if delete_temp.lower() in TRUE_CONDITIONS:\n",
    "    ! mkdir ./temp\n",
    "    ! kaggle datasets download -d a2015003713/militaryaircraftdetectiondataset -p ./temp\n",
    "    # Unzip the dataset\n",
    "    ! unzip - j ./temp/militaryaircraftdetectiondataset.zip \"dataset/*\" - d ../data/raw\n",
    "    # Remove temporal files?\n",
    "    ! rm - rf ./temp\n"
   ]
  },
  {
   "attachments": {},
   "cell_type": "markdown",
   "metadata": {},
   "source": [
    "# First Study"
   ]
  },
  {
   "cell_type": "code",
   "execution_count": 4,
   "metadata": {
    "ExecuteTime": {
     "end_time": "2023-05-02T12:12:05.759003Z",
     "start_time": "2023-05-02T12:12:05.363338Z"
    },
    "collapsed": true
   },
   "outputs": [],
   "source": [
    "import tensorflow as tf\n",
    "from tensorflow import keras\n",
    "import cv2\n",
    "import os\n",
    "import pandas as pd\n",
    "import numpy as np\n",
    "import matplotlib.pyplot as plt"
   ]
  },
  {
   "attachments": {},
   "cell_type": "markdown",
   "metadata": {
    "collapsed": false
   },
   "source": [
    "# Import the CSV's and Images"
   ]
  },
  {
   "cell_type": "code",
   "execution_count": 5,
   "metadata": {
    "ExecuteTime": {
     "end_time": "2023-05-02T13:11:55.663996Z",
     "start_time": "2023-05-02T13:10:47.591912Z"
    },
    "collapsed": false
   },
   "outputs": [],
   "source": [
    "csv_path = \"../data/raw/\"\n",
    "df = pd.concat([pd.read_csv(csv_path + f, delimiter=',') for f in os.listdir(csv_path) if f.endswith('.csv')], ignore_index=True)\n",
    "df.to_csv('../data/interim/merged_info.csv', index=False)"
   ]
  },
  {
   "cell_type": "code",
   "execution_count": 6,
   "metadata": {
    "ExecuteTime": {
     "end_time": "2023-05-02T12:20:13.558600Z",
     "start_time": "2023-05-02T12:20:13.543039Z"
    },
    "collapsed": false
   },
   "outputs": [
    {
     "name": "stdout",
     "output_type": "stream",
     "text": [
      "Rows and columns of the DataFrame (17906, 8)\n"
     ]
    }
   ],
   "source": [
    "print(\"Rows and columns of the DataFrame\" , df.shape)"
   ]
  },
  {
   "cell_type": "code",
   "execution_count": 7,
   "metadata": {
    "ExecuteTime": {
     "end_time": "2023-05-02T12:20:15.639628Z",
     "start_time": "2023-05-02T12:20:15.622660Z"
    },
    "collapsed": false
   },
   "outputs": [
    {
     "name": "stdout",
     "output_type": "stream",
     "text": [
      "No null values in DF.\n"
     ]
    }
   ],
   "source": [
    "if df.isnull().values.any():\n",
    "    print(\"There are null values in DF\")\n",
    "else:\n",
    "    print(\"No null values in DF.\")"
   ]
  },
  {
   "cell_type": "code",
   "execution_count": 8,
   "metadata": {
    "ExecuteTime": {
     "end_time": "2023-05-02T12:20:19.042796Z",
     "start_time": "2023-05-02T12:20:19.009769Z"
    },
    "collapsed": false
   },
   "outputs": [
    {
     "data": {
      "text/html": [
       "<div>\n",
       "<style scoped>\n",
       "    .dataframe tbody tr th:only-of-type {\n",
       "        vertical-align: middle;\n",
       "    }\n",
       "\n",
       "    .dataframe tbody tr th {\n",
       "        vertical-align: top;\n",
       "    }\n",
       "\n",
       "    .dataframe thead th {\n",
       "        text-align: right;\n",
       "    }\n",
       "</style>\n",
       "<table border=\"1\" class=\"dataframe\">\n",
       "  <thead>\n",
       "    <tr style=\"text-align: right;\">\n",
       "      <th></th>\n",
       "      <th>filename</th>\n",
       "      <th>width</th>\n",
       "      <th>height</th>\n",
       "      <th>class</th>\n",
       "      <th>xmin</th>\n",
       "      <th>ymin</th>\n",
       "      <th>xmax</th>\n",
       "      <th>ymax</th>\n",
       "    </tr>\n",
       "  </thead>\n",
       "  <tbody>\n",
       "    <tr>\n",
       "      <th>0</th>\n",
       "      <td>5dc92840a1c2570658f210118ee712af</td>\n",
       "      <td>4096</td>\n",
       "      <td>2730</td>\n",
       "      <td>F15</td>\n",
       "      <td>253</td>\n",
       "      <td>1070</td>\n",
       "      <td>2275</td>\n",
       "      <td>1627</td>\n",
       "    </tr>\n",
       "    <tr>\n",
       "      <th>1</th>\n",
       "      <td>5dc92840a1c2570658f210118ee712af</td>\n",
       "      <td>4096</td>\n",
       "      <td>2730</td>\n",
       "      <td>F15</td>\n",
       "      <td>1680</td>\n",
       "      <td>908</td>\n",
       "      <td>4057</td>\n",
       "      <td>1656</td>\n",
       "    </tr>\n",
       "    <tr>\n",
       "      <th>2</th>\n",
       "      <td>ce0ef7f5181357f27e09a98f4f07aa26</td>\n",
       "      <td>1600</td>\n",
       "      <td>1075</td>\n",
       "      <td>SR71</td>\n",
       "      <td>216</td>\n",
       "      <td>345</td>\n",
       "      <td>1195</td>\n",
       "      <td>586</td>\n",
       "    </tr>\n",
       "    <tr>\n",
       "      <th>3</th>\n",
       "      <td>769c27a7b2c804a73458175fd13a3a53</td>\n",
       "      <td>916</td>\n",
       "      <td>316</td>\n",
       "      <td>J20</td>\n",
       "      <td>303</td>\n",
       "      <td>183</td>\n",
       "      <td>684</td>\n",
       "      <td>282</td>\n",
       "    </tr>\n",
       "    <tr>\n",
       "      <th>4</th>\n",
       "      <td>f8dcbb25ac0f69b2a7b4408e9481cedc</td>\n",
       "      <td>1041</td>\n",
       "      <td>1314</td>\n",
       "      <td>F18</td>\n",
       "      <td>252</td>\n",
       "      <td>16</td>\n",
       "      <td>750</td>\n",
       "      <td>1312</td>\n",
       "    </tr>\n",
       "  </tbody>\n",
       "</table>\n",
       "</div>"
      ],
      "text/plain": [
       "                           filename  width  height class  xmin  ymin  xmax  \\\n",
       "0  5dc92840a1c2570658f210118ee712af   4096    2730   F15   253  1070  2275   \n",
       "1  5dc92840a1c2570658f210118ee712af   4096    2730   F15  1680   908  4057   \n",
       "2  ce0ef7f5181357f27e09a98f4f07aa26   1600    1075  SR71   216   345  1195   \n",
       "3  769c27a7b2c804a73458175fd13a3a53    916     316   J20   303   183   684   \n",
       "4  f8dcbb25ac0f69b2a7b4408e9481cedc   1041    1314   F18   252    16   750   \n",
       "\n",
       "   ymax  \n",
       "0  1627  \n",
       "1  1656  \n",
       "2   586  \n",
       "3   282  \n",
       "4  1312  "
      ]
     },
     "execution_count": 8,
     "metadata": {},
     "output_type": "execute_result"
    }
   ],
   "source": [
    "df.head()"
   ]
  },
  {
   "cell_type": "code",
   "execution_count": 9,
   "metadata": {
    "collapsed": false
   },
   "outputs": [
    {
     "data": {
      "text/plain": [
       "<Axes: ylabel='class'>"
      ]
     },
     "execution_count": 9,
     "metadata": {},
     "output_type": "execute_result"
    },
    {
     "data": {
      "image/png": "[encoded data removed]",
      "text/plain": [
       "<Figure size 640x480 with 1 Axes>"
      ]
     },
     "metadata": {},
     "output_type": "display_data"
    }
   ],
   "source": [
    "df[\"class\"].value_counts().head(15).plot(kind=\"pie\") #See where can we reduce a bit our dataset\n",
    "\n"
   ]
  },
  {
   "attachments": {},
   "cell_type": "markdown",
   "metadata": {},
   "source": [
    "# Reducing Data\n",
    "Because the problem is too big, we will keep the best X classes in order to making the modeling process shorter and less computing intensive"
   ]
  },
  {
   "cell_type": "code",
   "execution_count": 10,
   "metadata": {
    "ExecuteTime": {
     "end_time": "2023-05-02T12:05:32.276837Z",
     "start_time": "2023-05-02T12:05:32.263838Z"
    },
    "collapsed": false
   },
   "outputs": [
    {
     "name": "stdout",
     "output_type": "stream",
     "text": [
      "Reduced from 17906 rows to 3159 rows\n"
     ]
    },
    {
     "data": {
      "text/plain": [
       "<Axes: ylabel='class'>"
      ]
     },
     "execution_count": 10,
     "metadata": {},
     "output_type": "execute_result"
    },
    {
     "data": {
      "image/png": "[encoded data removed]",
      "text/plain": [
       "<Figure size 640x480 with 1 Axes>"
      ]
     },
     "metadata": {},
     "output_type": "display_data"
    }
   ],
   "source": [
    "target = [\"F16\", \"F15\", \"F18\"]\n",
    "\n",
    "df_reduced = df.loc[df[\"class\"].isin(target)].copy(deep=True)\n",
    "\n",
    "print(f\"Reduced from {len(df.index)} rows to {len(df_reduced.index)} rows\")\n",
    "df_reduced[\"class\"].value_counts().plot(kind=\"pie\")"
   ]
  },
  {
   "attachments": {},
   "cell_type": "markdown",
   "metadata": {},
   "source": [
    "# Using YOLO\n",
    "We will download the YOLOv5 repo in order to change the classes in its model to ours so it can classify them\n"
   ]
  },
  {
   "attachments": {},
   "cell_type": "markdown",
   "metadata": {},
   "source": [
    "## Downloading repo and installing dependencies\n"
   ]
  },
  {
   "cell_type": "code",
   "execution_count": 13,
   "metadata": {},
   "outputs": [
    {
     "name": "stdout",
     "output_type": "stream",
     "text": [
      "/Users/marcgaspajoval/Documents/sky-defender/references/yolov5\n",
      "zsh:cd:1: no such file or directory: ../references\n",
      "/Users/marcgaspajoval/Documents/sky-defender/references/yolov5\n"
     ]
    }
   ],
   "source": [
    "!pwd\n",
    "!cd ../references\n",
    "!pwd"
   ]
  },
  {
   "cell_type": "code",
   "execution_count": 12,
   "metadata": {},
   "outputs": [
    {
     "name": "stdout",
     "output_type": "stream",
     "text": [
      "/Users/marcgaspajoval/Documents/sky-defender/notebooks\n",
      "/Users/marcgaspajoval/Documents/sky-defender/references\n",
      "/Users/marcgaspajoval/Documents/sky-defender/references\n",
      "S'està clonant a «yolov5»...\n",
      "remote: Enumerating objects: 15831, done.\u001b[K\n",
      "remote: Total 15831 (delta 0), reused 0 (delta 0), pack-reused 15831\u001b[K\n",
      "S'estan rebent objectes: 100% (15831/15831), 14.42 MiB | 12.18 MiB/s, fet.\n",
      "S'estan resolent les diferències: 100% (10874/10874), fet.\n",
      "/Users/marcgaspajoval/Documents/sky-defender/references/yolov5\n",
      "Note: you may need to restart the kernel to use updated packages.\n"
     ]
    }
   ],
   "source": [
    "import utils\n",
    "!git clone https://github.com/ultralytics/yolov5  # clone\n",
    "%cd yolov5\n",
    "%pip install -qr requirements.txt  # install"
   ]
  },
  {
   "cell_type": "code",
   "execution_count": null,
   "metadata": {},
   "outputs": [],
   "source": []
  }
 ],
 "metadata": {
  "kernelspec": {
   "display_name": "Python 3",
   "language": "python",
   "name": "python3"
  },
  "language_info": {
   "codemirror_mode": {
    "name": "ipython",
    "version": 3
   },
   "file_extension": ".py",
   "mimetype": "text/x-python",
   "name": "python",
   "nbconvert_exporter": "python",
   "pygments_lexer": "ipython3",
   "version": "3.9.16"
  }
 },
 "nbformat": 4,
 "nbformat_minor": 0
}
