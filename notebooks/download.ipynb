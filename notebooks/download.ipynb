{
 "cells": [
  {
   "attachments": {},
   "cell_type": "markdown",
   "metadata": {},
   "source": [
    "# Download Dataset\n",
    "\n",
    "Download (10GB) the Military Aircraft Detection Dataset from Kaggle, unzip just the dataset into raw\n",
    "\n",
    "Total RAW data = 8GB\n",
    "\n",
    "**IMPORTANT**: Api key (json) from Kaggle needs to be added to the notebooks folder of the project in order to download the dataset"
   ]
  },
  {
   "cell_type": "code",
   "execution_count": 22,
   "metadata": {},
   "outputs": [
    {
     "name": "stdout",
     "output_type": "stream",
     "text": [
      "mkdir: /Users/marcgaspajoval/.kaggle: File exists\n"
     ]
    }
   ],
   "source": [
    "# Download tool and add api keys\n",
    "! pip install -q kaggle\n",
    "! mkdir ~/.kaggle\n",
    "! cp kaggle.json ~/.kaggle/\n",
    "! chmod 600 ~/.kaggle/kaggle.json"
   ]
  },
  {
   "cell_type": "code",
   "execution_count": 23,
   "metadata": {},
   "outputs": [],
   "source": [
    "TRUE_CONDITIONS = ['y', 'yes']\n",
    "\n",
    "\n",
    "# Download the dataset\n",
    "delete_temp = input('\\tYes(Y)/No(N): ')\n",
    "\n",
    "if delete_temp.lower() in TRUE_CONDITIONS:\n",
    "    ! mkdir ./temp\n",
    "    ! kaggle datasets download -d a2015003713/militaryaircraftdetectiondataset -p ./temp\n",
    "    # Unzip the dataset\n",
    "    ! unzip - j ./temp/militaryaircraftdetectiondataset.zip \"dataset/*\" - d ../data/raw\n",
    "    # Remove temporal files?\n",
    "    ! rm - rf ./temp\n"
   ]
  }
 ],
 "metadata": {
  "kernelspec": {
   "display_name": "IA",
   "language": "python",
   "name": "python3"
  },
  "language_info": {
   "codemirror_mode": {
    "name": "ipython",
    "version": 3
   },
   "file_extension": ".py",
   "mimetype": "text/x-python",
   "name": "python",
   "nbconvert_exporter": "python",
   "pygments_lexer": "ipython3",
   "version": "3.9.16"
  },
  "orig_nbformat": 4
 },
 "nbformat": 4,
 "nbformat_minor": 2
}
